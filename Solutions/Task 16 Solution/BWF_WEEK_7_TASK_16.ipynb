{
  "nbformat": 4,
  "nbformat_minor": 0,
  "metadata": {
    "colab": {
      "provenance": []
    },
    "kernelspec": {
      "name": "python3",
      "display_name": "Python 3"
    },
    "language_info": {
      "name": "python"
    }
  },
  "cells": [
    {
      "cell_type": "markdown",
      "source": [
        "# Dataset : Iris\n",
        "\n",
        "- **Implementing K-Means Clustering**\n",
        "\n",
        "**Task: 1**\n",
        "- Apply K-Means clustering to the Iris dataset and visualize the clusters using a scatter plot of two features.\n",
        "- Evaluate the clustering by comparing it to the actual species labels.\n",
        "\n",
        "- Choosing the Optimal Number of Clusters\n",
        "\n",
        "**Task: 2**\n",
        "\n",
        "- Use the Elbow Method and Silhouette Score to determine the optimal number of clusters for the Iris dataset.\n",
        "- Visualize the Silhouette Score for different cluster counts.\n",
        "- Cluster Visualization with PCA\n",
        "\n",
        "**Task: 3**\n",
        "- Use Principal Component Analysis (PCA) to reduce the Iris dataset to two dimensions. Visualize the clusters obtained from K-Means clustering in the PCA-reduced space.\n",
        "- Hierarchical Clustering: Dendrogram\n",
        "\n",
        "**Task: 4**\n",
        "- Implement hierarchical clustering using the Iris dataset. Plot a dendrogram to visualize the clustering process and choose an appropriate number of clusters.\n",
        "- Comparing Clustering Algorithms\n",
        "\n",
        "**Task: 5**\n",
        "- Compare the performance of K-Means and Agglomerative Hierarchical Clustering on the Iris dataset. Discuss the strengths and weaknesses of each approach based on the results.\n"
      ],
      "metadata": {
        "id": "gEt6J7dagzSv"
      }
    },
    {
      "cell_type": "code",
      "execution_count": null,
      "metadata": {
        "id": "wQ7h5cDugf7p"
      },
      "outputs": [],
      "source": []
    }
  ]
}