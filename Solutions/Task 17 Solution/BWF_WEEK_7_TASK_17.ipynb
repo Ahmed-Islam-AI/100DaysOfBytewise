{
  "nbformat": 4,
  "nbformat_minor": 0,
  "metadata": {
    "colab": {
      "provenance": []
    },
    "kernelspec": {
      "name": "python3",
      "display_name": "Python 3"
    },
    "language_info": {
      "name": "python"
    }
  },
  "cells": [
    {
      "cell_type": "markdown",
      "source": [
        "# Dataset : Mall Customers Dataset\n",
        "\n",
        "**Implementing K-Means Clustering on Customer Segments**\n",
        "\n",
        "**Task: 1**\n",
        "- Apply K-Means clustering to the Mall Customers dataset to segment customers based on their annual income and spending score. Visualize the resulting clusters.\n",
        "- Optimal Number of Clusters: Elbow Method and Silhouette Score\n",
        "\n",
        "**Task: 2**\n",
        "- Use the Elbow Method and Silhouette Score to find the optimal number of clusters for the Mall Customers dataset. Discuss the criteria for selecting the number of clusters.\n",
        "- Cluster Profiling and Insights\n",
        "\n",
        "**Task: 3**\n",
        "- Analyze the characteristics of the clusters formed in the Mall Customers dataset. Provide insights into the customer segments based on their spending behavior and income levels.\n",
        "- Hierarchical Clustering for Customer Segmentation\n",
        "\n",
        "**Task: 4**\n",
        "\n",
        "- Implement hierarchical clustering on the Mall Customers dataset. Compare the clusters formed with those obtained from K-Means and discuss the differences.\n",
        "- Visualizing Clusters with PCA\n",
        "\n",
        "**Task: 5**\n",
        "- Apply PCA to the Mall Customers dataset to reduce its dimensionality. Visualize the clusters from both K-Means and hierarchical clustering in the PCA-reduced space.\n"
      ],
      "metadata": {
        "id": "c3HICdNGjwuj"
      }
    },
    {
      "cell_type": "code",
      "execution_count": null,
      "metadata": {
        "id": "0mkJ823mjS88"
      },
      "outputs": [],
      "source": []
    }
  ]
}