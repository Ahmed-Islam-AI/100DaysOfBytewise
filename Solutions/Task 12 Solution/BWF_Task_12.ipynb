{
  "nbformat": 4,
  "nbformat_minor": 0,
  "metadata": {
    "colab": {
      "provenance": []
    },
    "kernelspec": {
      "name": "python3",
      "display_name": "Python 3"
    },
    "language_info": {
      "name": "python"
    }
  },
  "cells": [
    {
      "cell_type": "markdown",
      "source": [
        "# Necessary Libraries\n"
      ],
      "metadata": {
        "id": "oaMA9fEMx_NH"
      }
    },
    {
      "cell_type": "code",
      "source": [
        "import pandas as pd\n",
        "import numpy as np\n",
        "import matplotlib.pyplot as plt\n",
        "%matplotlib inline\n",
        "import seaborn as sns\n",
        "import warnings\n",
        "warnings.filterwarnings('ignore')"
      ],
      "metadata": {
        "id": "c0BQh8ZSx-vY"
      },
      "execution_count": null,
      "outputs": []
    },
    {
      "cell_type": "markdown",
      "source": [
        "1. Predicting Employee Attrition Using Logistic Regression\n",
        "   Dataset: HR Analytics Employee Attrition Dataset\n",
        "   Preprocessing Steps:\n",
        "     - Handle missing values if any.\n",
        "     - Encode categorical variables (e.g., one-hot encoding for department, gender, etc.).\n",
        "     - Standardize numerical features.\n",
        "   \n",
        "   \n",
        "   **Task: Implement logistic regression to predict employee attrition and evaluate the model using precision, recall, and F1-score.**\n"
      ],
      "metadata": {
        "id": "jya60XK1xMGq"
      }
    },
    {
      "cell_type": "code",
      "execution_count": null,
      "metadata": {
        "id": "hoR06wXaxCg0"
      },
      "outputs": [],
      "source": []
    },
    {
      "cell_type": "code",
      "source": [],
      "metadata": {
        "id": "qbZHmcfNxUri"
      },
      "execution_count": null,
      "outputs": []
    },
    {
      "cell_type": "code",
      "source": [],
      "metadata": {
        "id": "CCmIjE-9xUlr"
      },
      "execution_count": null,
      "outputs": []
    },
    {
      "cell_type": "code",
      "source": [],
      "metadata": {
        "id": "HYacADKgxUTs"
      },
      "execution_count": null,
      "outputs": []
    },
    {
      "cell_type": "markdown",
      "source": [
        "2. Classifying Credit Card Fraud Using Decision Trees\n",
        "   Dataset: Credit Card Fraud Detection Dataset\n",
        "   Preprocessing Steps:\n",
        "     - Handle missing values if any.\n",
        "     - Standardize features.\n",
        "   \n",
        "  **Task: Implement a decision tree classifier to classify credit card transactions as fraud or not and evaluate the model using ROC-AUC and confusion matrix.**"
      ],
      "metadata": {
        "id": "X23tP3hNxVP4"
      }
    },
    {
      "cell_type": "code",
      "source": [],
      "metadata": {
        "id": "zJpg7NIdxOLx"
      },
      "execution_count": null,
      "outputs": []
    },
    {
      "cell_type": "code",
      "source": [],
      "metadata": {
        "id": "6qNzcA9Lxccy"
      },
      "execution_count": null,
      "outputs": []
    },
    {
      "cell_type": "code",
      "source": [],
      "metadata": {
        "id": "iflzUy3_xdLu"
      },
      "execution_count": null,
      "outputs": []
    },
    {
      "cell_type": "markdown",
      "source": [
        "3. Predicting Heart Disease Using Logistic Regression\n",
        "   Dataset: Heart Disease Dataset\n",
        "   Preprocessing Steps:\n",
        "     - Handle missing values (e.g., fill missing values with mean).\n",
        "     - Encode categorical variables (e.g., one-hot encoding for gender, chest pain type, etc.).\n",
        "     - Standardize numerical features.\n",
        "   \n",
        "   \n",
        "   **Task: Implement logistic regression to predict heart disease and evaluate the model using accuracy and ROC-AUC.**\n"
      ],
      "metadata": {
        "id": "Ia4ORhPkxdng"
      }
    },
    {
      "cell_type": "code",
      "source": [],
      "metadata": {
        "id": "MMtwkXcCxjD4"
      },
      "execution_count": null,
      "outputs": []
    },
    {
      "cell_type": "code",
      "source": [],
      "metadata": {
        "id": "ynvanty6xj8O"
      },
      "execution_count": null,
      "outputs": []
    },
    {
      "cell_type": "code",
      "source": [],
      "metadata": {
        "id": "WBHXQqiFxj0g"
      },
      "execution_count": null,
      "outputs": []
    },
    {
      "cell_type": "markdown",
      "source": [
        "4. Classifying Emails as Spam Using Decision Trees\n",
        "    Dataset: Spam Email Dataset\n",
        "    Preprocessing Steps:\n",
        "      - Handle missing values if any.\n",
        "      - Standardize features.\n",
        "      - Encode categorical variables if present.\n",
        "    \n",
        "    \n",
        "    Task: Implement a decision tree classifier to classify emails as spam or not and evaluate the model using precision, recall, and F1-score."
      ],
      "metadata": {
        "id": "h7qvv3lDxkkp"
      }
    },
    {
      "cell_type": "code",
      "source": [],
      "metadata": {
        "id": "6VjCnY8mxwis"
      },
      "execution_count": null,
      "outputs": []
    },
    {
      "cell_type": "code",
      "source": [],
      "metadata": {
        "id": "iBCZ9O0vx0Sw"
      },
      "execution_count": null,
      "outputs": []
    },
    {
      "cell_type": "code",
      "source": [],
      "metadata": {
        "id": "Eo3SHHG_x0H1"
      },
      "execution_count": null,
      "outputs": []
    },
    {
      "cell_type": "markdown",
      "source": [
        "5. Predicting Customer Satisfaction Using Logistic Regression\n",
        "    Dataset: Customer Satisfaction Dataset\n",
        "    Preprocessing Steps:\n",
        "      - Handle missing values (e.g., fill missing values with median).\n",
        "      - Encode categorical variables (e.g., one-hot encoding for region).\n",
        "      - Standardize numerical features.\n",
        "\n",
        "    **Task: Implement logistic regression to predict customer satisfaction and evaluate the model using accuracy and confusion matrix.**\n"
      ],
      "metadata": {
        "id": "NBwVzxbTx0qi"
      }
    },
    {
      "cell_type": "code",
      "source": [],
      "metadata": {
        "id": "rRHw_8p0x8Yp"
      },
      "execution_count": null,
      "outputs": []
    }
  ]
}