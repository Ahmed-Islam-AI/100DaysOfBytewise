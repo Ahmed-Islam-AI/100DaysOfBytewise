{
  "nbformat": 4,
  "nbformat_minor": 0,
  "metadata": {
    "colab": {
      "provenance": [],
      "toc_visible": true
    },
    "kernelspec": {
      "name": "python3",
      "display_name": "Python 3"
    },
    "language_info": {
      "name": "python"
    }
  },
  "cells": [
    {
      "cell_type": "markdown",
      "source": [
        "# Necessary libraries"
      ],
      "metadata": {
        "id": "V7ttckoOzxoV"
      }
    },
    {
      "cell_type": "code",
      "source": [
        "import pandas as pd\n",
        "import numpy as np\n",
        "import seaborn as sns\n",
        "import matplotlib.pyplot as plt\n",
        "%matplotlib inline\n",
        "from sklearn.preprocessing import LabelEncoder, StandardScaler, normalize\n",
        "from sklearn.model_selection import train_test_split\n",
        "from sklearn.linear_model import LogisticRegression\n",
        "from sklearn.tree import DecisionTreeClassifier\n",
        "from sklearn.metrics import accuracy_score, roc_auc_score\n",
        "import warnings\n",
        "warnings.filterwarnings('ignore')\n",
        "plt.rcParams['figure.figsize'] = (10, 6)\n",
        "pd.set_option('display.max_columns', None)\n"
      ],
      "metadata": {
        "id": "IOs4ZTcdz5NY"
      },
      "execution_count": 3,
      "outputs": []
    },
    {
      "cell_type": "code",
      "source": [
        "from google.colab import drive\n",
        "drive.mount('/content/drive')\n"
      ],
      "metadata": {
        "colab": {
          "base_uri": "https://localhost:8080/"
        },
        "id": "J8HAzQk0GsAy",
        "outputId": "0f2fc31b-8353-4cc3-b427-b7db1f396968"
      },
      "execution_count": 4,
      "outputs": [
        {
          "output_type": "stream",
          "name": "stdout",
          "text": [
            "Mounted at /content/drive\n"
          ]
        }
      ]
    },
    {
      "cell_type": "markdown",
      "source": [
        "# Classifying Loan Status Using Decision Trees"
      ],
      "metadata": {
        "id": "HDn1ByZcQb7r"
      }
    },
    {
      "cell_type": "markdown",
      "source": [
        "Classifying Loan Status Using Decision Trees\n",
        "    \n",
        "    Dataset:\n",
        "Lending Club Loan Data\n",
        "    \n",
        "    Preprocessing Steps:\n",
        "Handle missing values if any.\n",
        "\n",
        "Encode categorical variables (e.g., one-hot encoding for loan grade, sub-grade, etc.).\n",
        "\n",
        "Standardize numerical features.\n",
        "   \n",
        "    Task: 1\n",
        "Implement a decision tree classifier to classify loan status and evaluate the model using accuracy and ROC-AUC.\n"
      ],
      "metadata": {
        "id": "JHYVMmN2yX-N"
      }
    },
    {
      "cell_type": "code",
      "execution_count": null,
      "metadata": {
        "id": "X3Crki67xCY4",
        "colab": {
          "base_uri": "https://localhost:8080/",
          "height": 330
        },
        "outputId": "ade07974-87e9-4d25-9f8d-7c1d7ba9fd7a"
      },
      "outputs": [
        {
          "output_type": "execute_result",
          "data": {
            "text/plain": [
              "   Unnamed: 0                emp_title  emp_length state homeownership  \\\n",
              "0           1  global config engineer          3.0    NJ      MORTGAGE   \n",
              "1           2   warehouse office clerk        10.0    HI          RENT   \n",
              "2           3                 assembly         3.0    WI          RENT   \n",
              "3           4         customer service         1.0    PA          RENT   \n",
              "4           5     security supervisor         10.0    CA          RENT   \n",
              "\n",
              "   annual_income  verified_income  debt_to_income  annual_income_joint  \\\n",
              "0        90000.0         Verified           18.01                  NaN   \n",
              "1        40000.0     Not Verified            5.04                  NaN   \n",
              "2        40000.0  Source Verified           21.15                  NaN   \n",
              "3        30000.0     Not Verified           10.16                  NaN   \n",
              "4        35000.0         Verified           57.96              57000.0   \n",
              "\n",
              "  verification_income_joint  debt_to_income_joint  delinq_2y  \\\n",
              "0                       NaN                   NaN          0   \n",
              "1                       NaN                   NaN          0   \n",
              "2                       NaN                   NaN          0   \n",
              "3                       NaN                   NaN          0   \n",
              "4                  Verified                 37.66          0   \n",
              "\n",
              "   months_since_last_delinq  earliest_credit_line  inquiries_last_12m  \\\n",
              "0                      38.0                  2001                   6   \n",
              "1                       NaN                  1996                   1   \n",
              "2                      28.0                  2006                   4   \n",
              "3                       NaN                  2007                   0   \n",
              "4                       NaN                  2008                   7   \n",
              "\n",
              "   total_credit_lines  open_credit_lines  total_credit_limit  \\\n",
              "0                  28                 10               70795   \n",
              "1                  30                 14               28800   \n",
              "2                  31                 10               24193   \n",
              "3                   4                  4               25400   \n",
              "4                  22                 16               69839   \n",
              "\n",
              "   total_credit_utilized  num_collections_last_12m  \\\n",
              "0                  38767                         0   \n",
              "1                   4321                         0   \n",
              "2                  16000                         0   \n",
              "3                   4997                         0   \n",
              "4                  52722                         0   \n",
              "\n",
              "   num_historical_failed_to_pay  months_since_90d_late  \\\n",
              "0                             0                   38.0   \n",
              "1                             1                    NaN   \n",
              "2                             0                   28.0   \n",
              "3                             1                    NaN   \n",
              "4                             0                    NaN   \n",
              "\n",
              "   current_accounts_delinq  total_collection_amount_ever  \\\n",
              "0                        0                          1250   \n",
              "1                        0                             0   \n",
              "2                        0                           432   \n",
              "3                        0                             0   \n",
              "4                        0                             0   \n",
              "\n",
              "   current_installment_accounts  accounts_opened_24m  \\\n",
              "0                             2                    5   \n",
              "1                             0                   11   \n",
              "2                             1                   13   \n",
              "3                             1                    1   \n",
              "4                             1                    6   \n",
              "\n",
              "   months_since_last_credit_inquiry  num_satisfactory_accounts  \\\n",
              "0                               5.0                         10   \n",
              "1                               8.0                         14   \n",
              "2                               7.0                         10   \n",
              "3                              15.0                          4   \n",
              "4                               4.0                         16   \n",
              "\n",
              "   num_accounts_120d_past_due  num_accounts_30d_past_due  \\\n",
              "0                         0.0                          0   \n",
              "1                         0.0                          0   \n",
              "2                         0.0                          0   \n",
              "3                         0.0                          0   \n",
              "4                         0.0                          0   \n",
              "\n",
              "   num_active_debit_accounts  total_debit_limit  num_total_cc_accounts  \\\n",
              "0                          2              11100                     14   \n",
              "1                          3              16500                     24   \n",
              "2                          3               4300                     14   \n",
              "3                          2              19400                      3   \n",
              "4                         10              32700                     20   \n",
              "\n",
              "   num_open_cc_accounts  num_cc_carrying_balance  num_mort_accounts  \\\n",
              "0                     8                        6                  1   \n",
              "1                    14                        4                  0   \n",
              "2                     8                        6                  0   \n",
              "3                     3                        2                  0   \n",
              "4                    15                       13                  0   \n",
              "\n",
              "   account_never_delinq_percent  tax_liens  public_record_bankrupt  \\\n",
              "0                          92.9          0                       0   \n",
              "1                         100.0          0                       1   \n",
              "2                          93.5          0                       0   \n",
              "3                         100.0          1                       0   \n",
              "4                         100.0          0                       0   \n",
              "\n",
              "         loan_purpose application_type  loan_amount  term  interest_rate  \\\n",
              "0              moving       individual        28000    60          14.07   \n",
              "1  debt_consolidation       individual         5000    36          12.61   \n",
              "2               other       individual         2000    36          17.09   \n",
              "3  debt_consolidation       individual        21600    36           6.72   \n",
              "4         credit_card            joint        23000    36          14.07   \n",
              "\n",
              "   installment grade sub_grade issue_month loan_status initial_listing_status  \\\n",
              "0       652.53     C        C3    Mar-2018     Current                  whole   \n",
              "1       167.54     C        C1    Feb-2018     Current                  whole   \n",
              "2        71.40     D        D1    Feb-2018     Current             fractional   \n",
              "3       664.19     A        A3    Jan-2018     Current                  whole   \n",
              "4       786.87     C        C3    Mar-2018     Current                  whole   \n",
              "\n",
              "  disbursement_method   balance  paid_total  paid_principal  paid_interest  \\\n",
              "0                Cash  27015.86     1999.33          984.14        1015.19   \n",
              "1                Cash   4651.37      499.12          348.63         150.49   \n",
              "2                Cash   1824.63      281.80          175.37         106.43   \n",
              "3                Cash  18853.26     3312.89         2746.74         566.15   \n",
              "4                Cash  21430.15     2324.65         1569.85         754.80   \n",
              "\n",
              "   paid_late_fees  \n",
              "0             0.0  \n",
              "1             0.0  \n",
              "2             0.0  \n",
              "3             0.0  \n",
              "4             0.0  "
            ],
            "text/html": [
              "\n",
              "  <div id=\"df-b05e4b11-ab10-46b0-8dad-018a3c87a39f\" class=\"colab-df-container\">\n",
              "    <div>\n",
              "<style scoped>\n",
              "    .dataframe tbody tr th:only-of-type {\n",
              "        vertical-align: middle;\n",
              "    }\n",
              "\n",
              "    .dataframe tbody tr th {\n",
              "        vertical-align: top;\n",
              "    }\n",
              "\n",
              "    .dataframe thead th {\n",
              "        text-align: right;\n",
              "    }\n",
              "</style>\n",
              "<table border=\"1\" class=\"dataframe\">\n",
              "  <thead>\n",
              "    <tr style=\"text-align: right;\">\n",
              "      <th></th>\n",
              "      <th>Unnamed: 0</th>\n",
              "      <th>emp_title</th>\n",
              "      <th>emp_length</th>\n",
              "      <th>state</th>\n",
              "      <th>homeownership</th>\n",
              "      <th>annual_income</th>\n",
              "      <th>verified_income</th>\n",
              "      <th>debt_to_income</th>\n",
              "      <th>annual_income_joint</th>\n",
              "      <th>verification_income_joint</th>\n",
              "      <th>debt_to_income_joint</th>\n",
              "      <th>delinq_2y</th>\n",
              "      <th>months_since_last_delinq</th>\n",
              "      <th>earliest_credit_line</th>\n",
              "      <th>inquiries_last_12m</th>\n",
              "      <th>total_credit_lines</th>\n",
              "      <th>open_credit_lines</th>\n",
              "      <th>total_credit_limit</th>\n",
              "      <th>total_credit_utilized</th>\n",
              "      <th>num_collections_last_12m</th>\n",
              "      <th>num_historical_failed_to_pay</th>\n",
              "      <th>months_since_90d_late</th>\n",
              "      <th>current_accounts_delinq</th>\n",
              "      <th>total_collection_amount_ever</th>\n",
              "      <th>current_installment_accounts</th>\n",
              "      <th>accounts_opened_24m</th>\n",
              "      <th>months_since_last_credit_inquiry</th>\n",
              "      <th>num_satisfactory_accounts</th>\n",
              "      <th>num_accounts_120d_past_due</th>\n",
              "      <th>num_accounts_30d_past_due</th>\n",
              "      <th>num_active_debit_accounts</th>\n",
              "      <th>total_debit_limit</th>\n",
              "      <th>num_total_cc_accounts</th>\n",
              "      <th>num_open_cc_accounts</th>\n",
              "      <th>num_cc_carrying_balance</th>\n",
              "      <th>num_mort_accounts</th>\n",
              "      <th>account_never_delinq_percent</th>\n",
              "      <th>tax_liens</th>\n",
              "      <th>public_record_bankrupt</th>\n",
              "      <th>loan_purpose</th>\n",
              "      <th>application_type</th>\n",
              "      <th>loan_amount</th>\n",
              "      <th>term</th>\n",
              "      <th>interest_rate</th>\n",
              "      <th>installment</th>\n",
              "      <th>grade</th>\n",
              "      <th>sub_grade</th>\n",
              "      <th>issue_month</th>\n",
              "      <th>loan_status</th>\n",
              "      <th>initial_listing_status</th>\n",
              "      <th>disbursement_method</th>\n",
              "      <th>balance</th>\n",
              "      <th>paid_total</th>\n",
              "      <th>paid_principal</th>\n",
              "      <th>paid_interest</th>\n",
              "      <th>paid_late_fees</th>\n",
              "    </tr>\n",
              "  </thead>\n",
              "  <tbody>\n",
              "    <tr>\n",
              "      <th>0</th>\n",
              "      <td>1</td>\n",
              "      <td>global config engineer</td>\n",
              "      <td>3.0</td>\n",
              "      <td>NJ</td>\n",
              "      <td>MORTGAGE</td>\n",
              "      <td>90000.0</td>\n",
              "      <td>Verified</td>\n",
              "      <td>18.01</td>\n",
              "      <td>NaN</td>\n",
              "      <td>NaN</td>\n",
              "      <td>NaN</td>\n",
              "      <td>0</td>\n",
              "      <td>38.0</td>\n",
              "      <td>2001</td>\n",
              "      <td>6</td>\n",
              "      <td>28</td>\n",
              "      <td>10</td>\n",
              "      <td>70795</td>\n",
              "      <td>38767</td>\n",
              "      <td>0</td>\n",
              "      <td>0</td>\n",
              "      <td>38.0</td>\n",
              "      <td>0</td>\n",
              "      <td>1250</td>\n",
              "      <td>2</td>\n",
              "      <td>5</td>\n",
              "      <td>5.0</td>\n",
              "      <td>10</td>\n",
              "      <td>0.0</td>\n",
              "      <td>0</td>\n",
              "      <td>2</td>\n",
              "      <td>11100</td>\n",
              "      <td>14</td>\n",
              "      <td>8</td>\n",
              "      <td>6</td>\n",
              "      <td>1</td>\n",
              "      <td>92.9</td>\n",
              "      <td>0</td>\n",
              "      <td>0</td>\n",
              "      <td>moving</td>\n",
              "      <td>individual</td>\n",
              "      <td>28000</td>\n",
              "      <td>60</td>\n",
              "      <td>14.07</td>\n",
              "      <td>652.53</td>\n",
              "      <td>C</td>\n",
              "      <td>C3</td>\n",
              "      <td>Mar-2018</td>\n",
              "      <td>Current</td>\n",
              "      <td>whole</td>\n",
              "      <td>Cash</td>\n",
              "      <td>27015.86</td>\n",
              "      <td>1999.33</td>\n",
              "      <td>984.14</td>\n",
              "      <td>1015.19</td>\n",
              "      <td>0.0</td>\n",
              "    </tr>\n",
              "    <tr>\n",
              "      <th>1</th>\n",
              "      <td>2</td>\n",
              "      <td>warehouse office clerk</td>\n",
              "      <td>10.0</td>\n",
              "      <td>HI</td>\n",
              "      <td>RENT</td>\n",
              "      <td>40000.0</td>\n",
              "      <td>Not Verified</td>\n",
              "      <td>5.04</td>\n",
              "      <td>NaN</td>\n",
              "      <td>NaN</td>\n",
              "      <td>NaN</td>\n",
              "      <td>0</td>\n",
              "      <td>NaN</td>\n",
              "      <td>1996</td>\n",
              "      <td>1</td>\n",
              "      <td>30</td>\n",
              "      <td>14</td>\n",
              "      <td>28800</td>\n",
              "      <td>4321</td>\n",
              "      <td>0</td>\n",
              "      <td>1</td>\n",
              "      <td>NaN</td>\n",
              "      <td>0</td>\n",
              "      <td>0</td>\n",
              "      <td>0</td>\n",
              "      <td>11</td>\n",
              "      <td>8.0</td>\n",
              "      <td>14</td>\n",
              "      <td>0.0</td>\n",
              "      <td>0</td>\n",
              "      <td>3</td>\n",
              "      <td>16500</td>\n",
              "      <td>24</td>\n",
              "      <td>14</td>\n",
              "      <td>4</td>\n",
              "      <td>0</td>\n",
              "      <td>100.0</td>\n",
              "      <td>0</td>\n",
              "      <td>1</td>\n",
              "      <td>debt_consolidation</td>\n",
              "      <td>individual</td>\n",
              "      <td>5000</td>\n",
              "      <td>36</td>\n",
              "      <td>12.61</td>\n",
              "      <td>167.54</td>\n",
              "      <td>C</td>\n",
              "      <td>C1</td>\n",
              "      <td>Feb-2018</td>\n",
              "      <td>Current</td>\n",
              "      <td>whole</td>\n",
              "      <td>Cash</td>\n",
              "      <td>4651.37</td>\n",
              "      <td>499.12</td>\n",
              "      <td>348.63</td>\n",
              "      <td>150.49</td>\n",
              "      <td>0.0</td>\n",
              "    </tr>\n",
              "    <tr>\n",
              "      <th>2</th>\n",
              "      <td>3</td>\n",
              "      <td>assembly</td>\n",
              "      <td>3.0</td>\n",
              "      <td>WI</td>\n",
              "      <td>RENT</td>\n",
              "      <td>40000.0</td>\n",
              "      <td>Source Verified</td>\n",
              "      <td>21.15</td>\n",
              "      <td>NaN</td>\n",
              "      <td>NaN</td>\n",
              "      <td>NaN</td>\n",
              "      <td>0</td>\n",
              "      <td>28.0</td>\n",
              "      <td>2006</td>\n",
              "      <td>4</td>\n",
              "      <td>31</td>\n",
              "      <td>10</td>\n",
              "      <td>24193</td>\n",
              "      <td>16000</td>\n",
              "      <td>0</td>\n",
              "      <td>0</td>\n",
              "      <td>28.0</td>\n",
              "      <td>0</td>\n",
              "      <td>432</td>\n",
              "      <td>1</td>\n",
              "      <td>13</td>\n",
              "      <td>7.0</td>\n",
              "      <td>10</td>\n",
              "      <td>0.0</td>\n",
              "      <td>0</td>\n",
              "      <td>3</td>\n",
              "      <td>4300</td>\n",
              "      <td>14</td>\n",
              "      <td>8</td>\n",
              "      <td>6</td>\n",
              "      <td>0</td>\n",
              "      <td>93.5</td>\n",
              "      <td>0</td>\n",
              "      <td>0</td>\n",
              "      <td>other</td>\n",
              "      <td>individual</td>\n",
              "      <td>2000</td>\n",
              "      <td>36</td>\n",
              "      <td>17.09</td>\n",
              "      <td>71.40</td>\n",
              "      <td>D</td>\n",
              "      <td>D1</td>\n",
              "      <td>Feb-2018</td>\n",
              "      <td>Current</td>\n",
              "      <td>fractional</td>\n",
              "      <td>Cash</td>\n",
              "      <td>1824.63</td>\n",
              "      <td>281.80</td>\n",
              "      <td>175.37</td>\n",
              "      <td>106.43</td>\n",
              "      <td>0.0</td>\n",
              "    </tr>\n",
              "    <tr>\n",
              "      <th>3</th>\n",
              "      <td>4</td>\n",
              "      <td>customer service</td>\n",
              "      <td>1.0</td>\n",
              "      <td>PA</td>\n",
              "      <td>RENT</td>\n",
              "      <td>30000.0</td>\n",
              "      <td>Not Verified</td>\n",
              "      <td>10.16</td>\n",
              "      <td>NaN</td>\n",
              "      <td>NaN</td>\n",
              "      <td>NaN</td>\n",
              "      <td>0</td>\n",
              "      <td>NaN</td>\n",
              "      <td>2007</td>\n",
              "      <td>0</td>\n",
              "      <td>4</td>\n",
              "      <td>4</td>\n",
              "      <td>25400</td>\n",
              "      <td>4997</td>\n",
              "      <td>0</td>\n",
              "      <td>1</td>\n",
              "      <td>NaN</td>\n",
              "      <td>0</td>\n",
              "      <td>0</td>\n",
              "      <td>1</td>\n",
              "      <td>1</td>\n",
              "      <td>15.0</td>\n",
              "      <td>4</td>\n",
              "      <td>0.0</td>\n",
              "      <td>0</td>\n",
              "      <td>2</td>\n",
              "      <td>19400</td>\n",
              "      <td>3</td>\n",
              "      <td>3</td>\n",
              "      <td>2</td>\n",
              "      <td>0</td>\n",
              "      <td>100.0</td>\n",
              "      <td>1</td>\n",
              "      <td>0</td>\n",
              "      <td>debt_consolidation</td>\n",
              "      <td>individual</td>\n",
              "      <td>21600</td>\n",
              "      <td>36</td>\n",
              "      <td>6.72</td>\n",
              "      <td>664.19</td>\n",
              "      <td>A</td>\n",
              "      <td>A3</td>\n",
              "      <td>Jan-2018</td>\n",
              "      <td>Current</td>\n",
              "      <td>whole</td>\n",
              "      <td>Cash</td>\n",
              "      <td>18853.26</td>\n",
              "      <td>3312.89</td>\n",
              "      <td>2746.74</td>\n",
              "      <td>566.15</td>\n",
              "      <td>0.0</td>\n",
              "    </tr>\n",
              "    <tr>\n",
              "      <th>4</th>\n",
              "      <td>5</td>\n",
              "      <td>security supervisor</td>\n",
              "      <td>10.0</td>\n",
              "      <td>CA</td>\n",
              "      <td>RENT</td>\n",
              "      <td>35000.0</td>\n",
              "      <td>Verified</td>\n",
              "      <td>57.96</td>\n",
              "      <td>57000.0</td>\n",
              "      <td>Verified</td>\n",
              "      <td>37.66</td>\n",
              "      <td>0</td>\n",
              "      <td>NaN</td>\n",
              "      <td>2008</td>\n",
              "      <td>7</td>\n",
              "      <td>22</td>\n",
              "      <td>16</td>\n",
              "      <td>69839</td>\n",
              "      <td>52722</td>\n",
              "      <td>0</td>\n",
              "      <td>0</td>\n",
              "      <td>NaN</td>\n",
              "      <td>0</td>\n",
              "      <td>0</td>\n",
              "      <td>1</td>\n",
              "      <td>6</td>\n",
              "      <td>4.0</td>\n",
              "      <td>16</td>\n",
              "      <td>0.0</td>\n",
              "      <td>0</td>\n",
              "      <td>10</td>\n",
              "      <td>32700</td>\n",
              "      <td>20</td>\n",
              "      <td>15</td>\n",
              "      <td>13</td>\n",
              "      <td>0</td>\n",
              "      <td>100.0</td>\n",
              "      <td>0</td>\n",
              "      <td>0</td>\n",
              "      <td>credit_card</td>\n",
              "      <td>joint</td>\n",
              "      <td>23000</td>\n",
              "      <td>36</td>\n",
              "      <td>14.07</td>\n",
              "      <td>786.87</td>\n",
              "      <td>C</td>\n",
              "      <td>C3</td>\n",
              "      <td>Mar-2018</td>\n",
              "      <td>Current</td>\n",
              "      <td>whole</td>\n",
              "      <td>Cash</td>\n",
              "      <td>21430.15</td>\n",
              "      <td>2324.65</td>\n",
              "      <td>1569.85</td>\n",
              "      <td>754.80</td>\n",
              "      <td>0.0</td>\n",
              "    </tr>\n",
              "  </tbody>\n",
              "</table>\n",
              "</div>\n",
              "    <div class=\"colab-df-buttons\">\n",
              "\n",
              "  <div class=\"colab-df-container\">\n",
              "    <button class=\"colab-df-convert\" onclick=\"convertToInteractive('df-b05e4b11-ab10-46b0-8dad-018a3c87a39f')\"\n",
              "            title=\"Convert this dataframe to an interactive table.\"\n",
              "            style=\"display:none;\">\n",
              "\n",
              "  <svg xmlns=\"http://www.w3.org/2000/svg\" height=\"24px\" viewBox=\"0 -960 960 960\">\n",
              "    <path d=\"M120-120v-720h720v720H120Zm60-500h600v-160H180v160Zm220 220h160v-160H400v160Zm0 220h160v-160H400v160ZM180-400h160v-160H180v160Zm440 0h160v-160H620v160ZM180-180h160v-160H180v160Zm440 0h160v-160H620v160Z\"/>\n",
              "  </svg>\n",
              "    </button>\n",
              "\n",
              "  <style>\n",
              "    .colab-df-container {\n",
              "      display:flex;\n",
              "      gap: 12px;\n",
              "    }\n",
              "\n",
              "    .colab-df-convert {\n",
              "      background-color: #E8F0FE;\n",
              "      border: none;\n",
              "      border-radius: 50%;\n",
              "      cursor: pointer;\n",
              "      display: none;\n",
              "      fill: #1967D2;\n",
              "      height: 32px;\n",
              "      padding: 0 0 0 0;\n",
              "      width: 32px;\n",
              "    }\n",
              "\n",
              "    .colab-df-convert:hover {\n",
              "      background-color: #E2EBFA;\n",
              "      box-shadow: 0px 1px 2px rgba(60, 64, 67, 0.3), 0px 1px 3px 1px rgba(60, 64, 67, 0.15);\n",
              "      fill: #174EA6;\n",
              "    }\n",
              "\n",
              "    .colab-df-buttons div {\n",
              "      margin-bottom: 4px;\n",
              "    }\n",
              "\n",
              "    [theme=dark] .colab-df-convert {\n",
              "      background-color: #3B4455;\n",
              "      fill: #D2E3FC;\n",
              "    }\n",
              "\n",
              "    [theme=dark] .colab-df-convert:hover {\n",
              "      background-color: #434B5C;\n",
              "      box-shadow: 0px 1px 3px 1px rgba(0, 0, 0, 0.15);\n",
              "      filter: drop-shadow(0px 1px 2px rgba(0, 0, 0, 0.3));\n",
              "      fill: #FFFFFF;\n",
              "    }\n",
              "  </style>\n",
              "\n",
              "    <script>\n",
              "      const buttonEl =\n",
              "        document.querySelector('#df-b05e4b11-ab10-46b0-8dad-018a3c87a39f button.colab-df-convert');\n",
              "      buttonEl.style.display =\n",
              "        google.colab.kernel.accessAllowed ? 'block' : 'none';\n",
              "\n",
              "      async function convertToInteractive(key) {\n",
              "        const element = document.querySelector('#df-b05e4b11-ab10-46b0-8dad-018a3c87a39f');\n",
              "        const dataTable =\n",
              "          await google.colab.kernel.invokeFunction('convertToInteractive',\n",
              "                                                    [key], {});\n",
              "        if (!dataTable) return;\n",
              "\n",
              "        const docLinkHtml = 'Like what you see? Visit the ' +\n",
              "          '<a target=\"_blank\" href=https://colab.research.google.com/notebooks/data_table.ipynb>data table notebook</a>'\n",
              "          + ' to learn more about interactive tables.';\n",
              "        element.innerHTML = '';\n",
              "        dataTable['output_type'] = 'display_data';\n",
              "        await google.colab.output.renderOutput(dataTable, element);\n",
              "        const docLink = document.createElement('div');\n",
              "        docLink.innerHTML = docLinkHtml;\n",
              "        element.appendChild(docLink);\n",
              "      }\n",
              "    </script>\n",
              "  </div>\n",
              "\n",
              "\n",
              "<div id=\"df-202fac5d-32c8-4e58-805d-cd7f0cbfc506\">\n",
              "  <button class=\"colab-df-quickchart\" onclick=\"quickchart('df-202fac5d-32c8-4e58-805d-cd7f0cbfc506')\"\n",
              "            title=\"Suggest charts\"\n",
              "            style=\"display:none;\">\n",
              "\n",
              "<svg xmlns=\"http://www.w3.org/2000/svg\" height=\"24px\"viewBox=\"0 0 24 24\"\n",
              "     width=\"24px\">\n",
              "    <g>\n",
              "        <path d=\"M19 3H5c-1.1 0-2 .9-2 2v14c0 1.1.9 2 2 2h14c1.1 0 2-.9 2-2V5c0-1.1-.9-2-2-2zM9 17H7v-7h2v7zm4 0h-2V7h2v10zm4 0h-2v-4h2v4z\"/>\n",
              "    </g>\n",
              "</svg>\n",
              "  </button>\n",
              "\n",
              "<style>\n",
              "  .colab-df-quickchart {\n",
              "      --bg-color: #E8F0FE;\n",
              "      --fill-color: #1967D2;\n",
              "      --hover-bg-color: #E2EBFA;\n",
              "      --hover-fill-color: #174EA6;\n",
              "      --disabled-fill-color: #AAA;\n",
              "      --disabled-bg-color: #DDD;\n",
              "  }\n",
              "\n",
              "  [theme=dark] .colab-df-quickchart {\n",
              "      --bg-color: #3B4455;\n",
              "      --fill-color: #D2E3FC;\n",
              "      --hover-bg-color: #434B5C;\n",
              "      --hover-fill-color: #FFFFFF;\n",
              "      --disabled-bg-color: #3B4455;\n",
              "      --disabled-fill-color: #666;\n",
              "  }\n",
              "\n",
              "  .colab-df-quickchart {\n",
              "    background-color: var(--bg-color);\n",
              "    border: none;\n",
              "    border-radius: 50%;\n",
              "    cursor: pointer;\n",
              "    display: none;\n",
              "    fill: var(--fill-color);\n",
              "    height: 32px;\n",
              "    padding: 0;\n",
              "    width: 32px;\n",
              "  }\n",
              "\n",
              "  .colab-df-quickchart:hover {\n",
              "    background-color: var(--hover-bg-color);\n",
              "    box-shadow: 0 1px 2px rgba(60, 64, 67, 0.3), 0 1px 3px 1px rgba(60, 64, 67, 0.15);\n",
              "    fill: var(--button-hover-fill-color);\n",
              "  }\n",
              "\n",
              "  .colab-df-quickchart-complete:disabled,\n",
              "  .colab-df-quickchart-complete:disabled:hover {\n",
              "    background-color: var(--disabled-bg-color);\n",
              "    fill: var(--disabled-fill-color);\n",
              "    box-shadow: none;\n",
              "  }\n",
              "\n",
              "  .colab-df-spinner {\n",
              "    border: 2px solid var(--fill-color);\n",
              "    border-color: transparent;\n",
              "    border-bottom-color: var(--fill-color);\n",
              "    animation:\n",
              "      spin 1s steps(1) infinite;\n",
              "  }\n",
              "\n",
              "  @keyframes spin {\n",
              "    0% {\n",
              "      border-color: transparent;\n",
              "      border-bottom-color: var(--fill-color);\n",
              "      border-left-color: var(--fill-color);\n",
              "    }\n",
              "    20% {\n",
              "      border-color: transparent;\n",
              "      border-left-color: var(--fill-color);\n",
              "      border-top-color: var(--fill-color);\n",
              "    }\n",
              "    30% {\n",
              "      border-color: transparent;\n",
              "      border-left-color: var(--fill-color);\n",
              "      border-top-color: var(--fill-color);\n",
              "      border-right-color: var(--fill-color);\n",
              "    }\n",
              "    40% {\n",
              "      border-color: transparent;\n",
              "      border-right-color: var(--fill-color);\n",
              "      border-top-color: var(--fill-color);\n",
              "    }\n",
              "    60% {\n",
              "      border-color: transparent;\n",
              "      border-right-color: var(--fill-color);\n",
              "    }\n",
              "    80% {\n",
              "      border-color: transparent;\n",
              "      border-right-color: var(--fill-color);\n",
              "      border-bottom-color: var(--fill-color);\n",
              "    }\n",
              "    90% {\n",
              "      border-color: transparent;\n",
              "      border-bottom-color: var(--fill-color);\n",
              "    }\n",
              "  }\n",
              "</style>\n",
              "\n",
              "  <script>\n",
              "    async function quickchart(key) {\n",
              "      const quickchartButtonEl =\n",
              "        document.querySelector('#' + key + ' button');\n",
              "      quickchartButtonEl.disabled = true;  // To prevent multiple clicks.\n",
              "      quickchartButtonEl.classList.add('colab-df-spinner');\n",
              "      try {\n",
              "        const charts = await google.colab.kernel.invokeFunction(\n",
              "            'suggestCharts', [key], {});\n",
              "      } catch (error) {\n",
              "        console.error('Error during call to suggestCharts:', error);\n",
              "      }\n",
              "      quickchartButtonEl.classList.remove('colab-df-spinner');\n",
              "      quickchartButtonEl.classList.add('colab-df-quickchart-complete');\n",
              "    }\n",
              "    (() => {\n",
              "      let quickchartButtonEl =\n",
              "        document.querySelector('#df-202fac5d-32c8-4e58-805d-cd7f0cbfc506 button');\n",
              "      quickchartButtonEl.style.display =\n",
              "        google.colab.kernel.accessAllowed ? 'block' : 'none';\n",
              "    })();\n",
              "  </script>\n",
              "</div>\n",
              "\n",
              "    </div>\n",
              "  </div>\n"
            ],
            "application/vnd.google.colaboratory.intrinsic+json": {
              "type": "dataframe",
              "variable_name": "loan_data"
            }
          },
          "metadata": {},
          "execution_count": 3
        }
      ],
      "source": [
        "loan_data = pd.read_csv('/content/drive/MyDrive/Datasets /BWF_Week6_Datasets/LendingClubLoan.csv')\n",
        "loan_data.head()"
      ]
    },
    {
      "cell_type": "code",
      "source": [
        "# Printing information of dataset\n",
        "loan_data.info()"
      ],
      "metadata": {
        "id": "7jamHArVyidy",
        "colab": {
          "base_uri": "https://localhost:8080/"
        },
        "outputId": "03c9d3e1-b1e8-40a2-f658-b56ed4daa82b"
      },
      "execution_count": null,
      "outputs": [
        {
          "output_type": "stream",
          "name": "stdout",
          "text": [
            "<class 'pandas.core.frame.DataFrame'>\n",
            "RangeIndex: 10000 entries, 0 to 9999\n",
            "Data columns (total 56 columns):\n",
            " #   Column                            Non-Null Count  Dtype  \n",
            "---  ------                            --------------  -----  \n",
            " 0   Unnamed: 0                        10000 non-null  int64  \n",
            " 1   emp_title                         9167 non-null   object \n",
            " 2   emp_length                        9183 non-null   float64\n",
            " 3   state                             10000 non-null  object \n",
            " 4   homeownership                     10000 non-null  object \n",
            " 5   annual_income                     10000 non-null  float64\n",
            " 6   verified_income                   10000 non-null  object \n",
            " 7   debt_to_income                    9976 non-null   float64\n",
            " 8   annual_income_joint               1495 non-null   float64\n",
            " 9   verification_income_joint         1455 non-null   object \n",
            " 10  debt_to_income_joint              1495 non-null   float64\n",
            " 11  delinq_2y                         10000 non-null  int64  \n",
            " 12  months_since_last_delinq          4342 non-null   float64\n",
            " 13  earliest_credit_line              10000 non-null  int64  \n",
            " 14  inquiries_last_12m                10000 non-null  int64  \n",
            " 15  total_credit_lines                10000 non-null  int64  \n",
            " 16  open_credit_lines                 10000 non-null  int64  \n",
            " 17  total_credit_limit                10000 non-null  int64  \n",
            " 18  total_credit_utilized             10000 non-null  int64  \n",
            " 19  num_collections_last_12m          10000 non-null  int64  \n",
            " 20  num_historical_failed_to_pay      10000 non-null  int64  \n",
            " 21  months_since_90d_late             2285 non-null   float64\n",
            " 22  current_accounts_delinq           10000 non-null  int64  \n",
            " 23  total_collection_amount_ever      10000 non-null  int64  \n",
            " 24  current_installment_accounts      10000 non-null  int64  \n",
            " 25  accounts_opened_24m               10000 non-null  int64  \n",
            " 26  months_since_last_credit_inquiry  8729 non-null   float64\n",
            " 27  num_satisfactory_accounts         10000 non-null  int64  \n",
            " 28  num_accounts_120d_past_due        9682 non-null   float64\n",
            " 29  num_accounts_30d_past_due         10000 non-null  int64  \n",
            " 30  num_active_debit_accounts         10000 non-null  int64  \n",
            " 31  total_debit_limit                 10000 non-null  int64  \n",
            " 32  num_total_cc_accounts             10000 non-null  int64  \n",
            " 33  num_open_cc_accounts              10000 non-null  int64  \n",
            " 34  num_cc_carrying_balance           10000 non-null  int64  \n",
            " 35  num_mort_accounts                 10000 non-null  int64  \n",
            " 36  account_never_delinq_percent      10000 non-null  float64\n",
            " 37  tax_liens                         10000 non-null  int64  \n",
            " 38  public_record_bankrupt            10000 non-null  int64  \n",
            " 39  loan_purpose                      10000 non-null  object \n",
            " 40  application_type                  10000 non-null  object \n",
            " 41  loan_amount                       10000 non-null  int64  \n",
            " 42  term                              10000 non-null  int64  \n",
            " 43  interest_rate                     10000 non-null  float64\n",
            " 44  installment                       10000 non-null  float64\n",
            " 45  grade                             10000 non-null  object \n",
            " 46  sub_grade                         10000 non-null  object \n",
            " 47  issue_month                       10000 non-null  object \n",
            " 48  loan_status                       10000 non-null  object \n",
            " 49  initial_listing_status            10000 non-null  object \n",
            " 50  disbursement_method               10000 non-null  object \n",
            " 51  balance                           10000 non-null  float64\n",
            " 52  paid_total                        10000 non-null  float64\n",
            " 53  paid_principal                    10000 non-null  float64\n",
            " 54  paid_interest                     10000 non-null  float64\n",
            " 55  paid_late_fees                    10000 non-null  float64\n",
            "dtypes: float64(17), int64(26), object(13)\n",
            "memory usage: 4.3+ MB\n"
          ]
        }
      ]
    },
    {
      "cell_type": "markdown",
      "source": [
        "### Handling Missing Values"
      ],
      "metadata": {
        "id": "CaaokujnHxbN"
      }
    },
    {
      "cell_type": "code",
      "source": [
        "loan_data.isnull().sum()"
      ],
      "metadata": {
        "colab": {
          "base_uri": "https://localhost:8080/"
        },
        "id": "C97S19vbHt9Z",
        "outputId": "392b9359-bfa5-4711-e9fc-2c16b89e07ef"
      },
      "execution_count": null,
      "outputs": [
        {
          "output_type": "execute_result",
          "data": {
            "text/plain": [
              "Unnamed: 0                             0\n",
              "emp_title                            833\n",
              "emp_length                           817\n",
              "state                                  0\n",
              "homeownership                          0\n",
              "annual_income                          0\n",
              "verified_income                        0\n",
              "debt_to_income                        24\n",
              "annual_income_joint                 8505\n",
              "verification_income_joint           8545\n",
              "debt_to_income_joint                8505\n",
              "delinq_2y                              0\n",
              "months_since_last_delinq            5658\n",
              "earliest_credit_line                   0\n",
              "inquiries_last_12m                     0\n",
              "total_credit_lines                     0\n",
              "open_credit_lines                      0\n",
              "total_credit_limit                     0\n",
              "total_credit_utilized                  0\n",
              "num_collections_last_12m               0\n",
              "num_historical_failed_to_pay           0\n",
              "months_since_90d_late               7715\n",
              "current_accounts_delinq                0\n",
              "total_collection_amount_ever           0\n",
              "current_installment_accounts           0\n",
              "accounts_opened_24m                    0\n",
              "months_since_last_credit_inquiry    1271\n",
              "num_satisfactory_accounts              0\n",
              "num_accounts_120d_past_due           318\n",
              "num_accounts_30d_past_due              0\n",
              "num_active_debit_accounts              0\n",
              "total_debit_limit                      0\n",
              "num_total_cc_accounts                  0\n",
              "num_open_cc_accounts                   0\n",
              "num_cc_carrying_balance                0\n",
              "num_mort_accounts                      0\n",
              "account_never_delinq_percent           0\n",
              "tax_liens                              0\n",
              "public_record_bankrupt                 0\n",
              "loan_purpose                           0\n",
              "application_type                       0\n",
              "loan_amount                            0\n",
              "term                                   0\n",
              "interest_rate                          0\n",
              "installment                            0\n",
              "grade                                  0\n",
              "sub_grade                              0\n",
              "issue_month                            0\n",
              "loan_status                            0\n",
              "initial_listing_status                 0\n",
              "disbursement_method                    0\n",
              "balance                                0\n",
              "paid_total                             0\n",
              "paid_principal                         0\n",
              "paid_interest                          0\n",
              "paid_late_fees                         0\n",
              "dtype: int64"
            ]
          },
          "metadata": {},
          "execution_count": 9
        }
      ]
    },
    {
      "cell_type": "code",
      "source": [
        "# Removing these columns because it has large amount of missing values.\n",
        "loan_data.drop(['annual_income_joint', 'verification_income_joint', 'debt_to_income_joint', 'months_since_last_delinq', 'months_since_90d_late'], axis=1, inplace=True)"
      ],
      "metadata": {
        "id": "UZnHebANHt1S"
      },
      "execution_count": null,
      "outputs": []
    },
    {
      "cell_type": "code",
      "source": [
        "# mode imputation for 'object' features\n",
        "loan_data.fillna({'emp_title': loan_data['emp_title'].mode()[0]}, inplace=True)"
      ],
      "metadata": {
        "id": "ZkETI3hrHtts"
      },
      "execution_count": null,
      "outputs": []
    },
    {
      "cell_type": "code",
      "source": [
        "# Using mean imputation on 'float' features. Since remaining all features are numerical, we will use direct approach.\n",
        "for feature in loan_data[['emp_length', 'debt_to_income', 'months_since_last_credit_inquiry', 'num_accounts_120d_past_due']]:\n",
        "    loan_data.fillna({feature: loan_data[feature].mean()}, inplace=True)"
      ],
      "metadata": {
        "id": "HFRDAuUkHtmN"
      },
      "execution_count": null,
      "outputs": []
    },
    {
      "cell_type": "code",
      "source": [
        "# Checking for the missing values in the dataset\n",
        "print('Missing values in the dataset:', loan_data.isnull().sum())"
      ],
      "metadata": {
        "colab": {
          "base_uri": "https://localhost:8080/"
        },
        "id": "C6rHTitqHtct",
        "outputId": "ece80a15-199f-46e6-87ff-1594423a5893"
      },
      "execution_count": null,
      "outputs": [
        {
          "output_type": "stream",
          "name": "stdout",
          "text": [
            "Missing values in the dataset: Unnamed: 0                          0\n",
            "emp_title                           0\n",
            "emp_length                          0\n",
            "state                               0\n",
            "homeownership                       0\n",
            "annual_income                       0\n",
            "verified_income                     0\n",
            "debt_to_income                      0\n",
            "delinq_2y                           0\n",
            "earliest_credit_line                0\n",
            "inquiries_last_12m                  0\n",
            "total_credit_lines                  0\n",
            "open_credit_lines                   0\n",
            "total_credit_limit                  0\n",
            "total_credit_utilized               0\n",
            "num_collections_last_12m            0\n",
            "num_historical_failed_to_pay        0\n",
            "current_accounts_delinq             0\n",
            "total_collection_amount_ever        0\n",
            "current_installment_accounts        0\n",
            "accounts_opened_24m                 0\n",
            "months_since_last_credit_inquiry    0\n",
            "num_satisfactory_accounts           0\n",
            "num_accounts_120d_past_due          0\n",
            "num_accounts_30d_past_due           0\n",
            "num_active_debit_accounts           0\n",
            "total_debit_limit                   0\n",
            "num_total_cc_accounts               0\n",
            "num_open_cc_accounts                0\n",
            "num_cc_carrying_balance             0\n",
            "num_mort_accounts                   0\n",
            "account_never_delinq_percent        0\n",
            "tax_liens                           0\n",
            "public_record_bankrupt              0\n",
            "loan_purpose                        0\n",
            "application_type                    0\n",
            "loan_amount                         0\n",
            "term                                0\n",
            "interest_rate                       0\n",
            "installment                         0\n",
            "grade                               0\n",
            "sub_grade                           0\n",
            "issue_month                         0\n",
            "loan_status                         0\n",
            "initial_listing_status              0\n",
            "disbursement_method                 0\n",
            "balance                             0\n",
            "paid_total                          0\n",
            "paid_principal                      0\n",
            "paid_interest                       0\n",
            "paid_late_fees                      0\n",
            "dtype: int64\n"
          ]
        }
      ]
    },
    {
      "cell_type": "markdown",
      "source": [
        "**Now there is no missing values in the dataset after imputation now lets proceed with the next step.**"
      ],
      "metadata": {
        "id": "-a0gwZ4iI8ny"
      }
    },
    {
      "cell_type": "markdown",
      "source": [
        "### Encoding Categorical Variables"
      ],
      "metadata": {
        "id": "tT4i2jNsJuQC"
      }
    },
    {
      "cell_type": "code",
      "source": [
        "# First we have to select only categorical columns/features\n",
        "\n",
        "categorical_features = loan_data.select_dtypes(include=['object']).columns\n",
        "categorical_features"
      ],
      "metadata": {
        "colab": {
          "base_uri": "https://localhost:8080/"
        },
        "id": "aJ9kUpRhHtTg",
        "outputId": "d7bcd6fc-95a1-41ec-a78a-e66bb84d3739"
      },
      "execution_count": null,
      "outputs": [
        {
          "output_type": "execute_result",
          "data": {
            "text/plain": [
              "Index(['emp_title', 'state', 'homeownership', 'verified_income',\n",
              "       'loan_purpose', 'application_type', 'grade', 'sub_grade', 'issue_month',\n",
              "       'loan_status', 'initial_listing_status', 'disbursement_method'],\n",
              "      dtype='object')"
            ]
          },
          "metadata": {},
          "execution_count": 8
        }
      ]
    },
    {
      "cell_type": "code",
      "source": [
        "numerical_features = loan_data.select_dtypes(include=['float64', 'int64']).columns\n",
        "numerical_features"
      ],
      "metadata": {
        "colab": {
          "base_uri": "https://localhost:8080/"
        },
        "id": "ITLEJelzHtMG",
        "outputId": "34bbe814-2d36-4973-d5ce-255a4d848e05"
      },
      "execution_count": null,
      "outputs": [
        {
          "output_type": "execute_result",
          "data": {
            "text/plain": [
              "Index(['Unnamed: 0', 'emp_length', 'annual_income', 'debt_to_income',\n",
              "       'delinq_2y', 'earliest_credit_line', 'inquiries_last_12m',\n",
              "       'total_credit_lines', 'open_credit_lines', 'total_credit_limit',\n",
              "       'total_credit_utilized', 'num_collections_last_12m',\n",
              "       'num_historical_failed_to_pay', 'current_accounts_delinq',\n",
              "       'total_collection_amount_ever', 'current_installment_accounts',\n",
              "       'accounts_opened_24m', 'months_since_last_credit_inquiry',\n",
              "       'num_satisfactory_accounts', 'num_accounts_120d_past_due',\n",
              "       'num_accounts_30d_past_due', 'num_active_debit_accounts',\n",
              "       'total_debit_limit', 'num_total_cc_accounts', 'num_open_cc_accounts',\n",
              "       'num_cc_carrying_balance', 'num_mort_accounts',\n",
              "       'account_never_delinq_percent', 'tax_liens', 'public_record_bankrupt',\n",
              "       'loan_amount', 'term', 'interest_rate', 'installment', 'balance',\n",
              "       'paid_total', 'paid_principal', 'paid_interest', 'paid_late_fees'],\n",
              "      dtype='object')"
            ]
          },
          "metadata": {},
          "execution_count": 9
        }
      ]
    },
    {
      "cell_type": "code",
      "source": [
        "# dropping column with name Unnamed because it is not making any sense in the data\n",
        "numerical_features.drop('Unnamed: 0')"
      ],
      "metadata": {
        "colab": {
          "base_uri": "https://localhost:8080/"
        },
        "id": "JNO6mAfJHtE0",
        "outputId": "0b81833e-f051-4829-fcdf-a84369bebe96"
      },
      "execution_count": null,
      "outputs": [
        {
          "output_type": "execute_result",
          "data": {
            "text/plain": [
              "Index(['emp_length', 'annual_income', 'debt_to_income', 'delinq_2y',\n",
              "       'earliest_credit_line', 'inquiries_last_12m', 'total_credit_lines',\n",
              "       'open_credit_lines', 'total_credit_limit', 'total_credit_utilized',\n",
              "       'num_collections_last_12m', 'num_historical_failed_to_pay',\n",
              "       'current_accounts_delinq', 'total_collection_amount_ever',\n",
              "       'current_installment_accounts', 'accounts_opened_24m',\n",
              "       'months_since_last_credit_inquiry', 'num_satisfactory_accounts',\n",
              "       'num_accounts_120d_past_due', 'num_accounts_30d_past_due',\n",
              "       'num_active_debit_accounts', 'total_debit_limit',\n",
              "       'num_total_cc_accounts', 'num_open_cc_accounts',\n",
              "       'num_cc_carrying_balance', 'num_mort_accounts',\n",
              "       'account_never_delinq_percent', 'tax_liens', 'public_record_bankrupt',\n",
              "       'loan_amount', 'term', 'interest_rate', 'installment', 'balance',\n",
              "       'paid_total', 'paid_principal', 'paid_interest', 'paid_late_fees'],\n",
              "      dtype='object')"
            ]
          },
          "metadata": {},
          "execution_count": 12
        }
      ]
    },
    {
      "cell_type": "code",
      "source": [
        "# Applying label encoder to the categorical features\n",
        "encoder = LabelEncoder()\n",
        "\n",
        "for feature in categorical_features:\n",
        "    loan_data[feature] = encoder.fit_transform(loan_data[feature])"
      ],
      "metadata": {
        "id": "939TODYgHs8t"
      },
      "execution_count": null,
      "outputs": []
    },
    {
      "cell_type": "markdown",
      "source": [
        "### Standardizing Numerical Features"
      ],
      "metadata": {
        "id": "Z7a83WRDIwpx"
      }
    },
    {
      "cell_type": "code",
      "source": [
        "scaler = StandardScaler()\n",
        "\n",
        "for feature in numerical_features:\n",
        "    loan_data[feature] = scaler.fit_transform(loan_data[feature].values.reshape(-1, 1))"
      ],
      "metadata": {
        "id": "wuTdQKuTIwUJ"
      },
      "execution_count": null,
      "outputs": []
    },
    {
      "cell_type": "markdown",
      "source": [
        "### Model Training"
      ],
      "metadata": {
        "id": "8UnPg0gWJHBX"
      }
    },
    {
      "cell_type": "code",
      "source": [
        "# Separating the features and the target variable\n",
        "X = loan_data.drop('loan_status', axis=1)\n",
        "y = loan_data['loan_status']\n",
        "\n",
        "# Splitting the dataset into training and testing sets\n",
        "X_train, X_test, y_train, y_test = train_test_split(X, y, test_size=0.2, random_state=42)"
      ],
      "metadata": {
        "id": "TYpN9BT2Hs0O"
      },
      "execution_count": null,
      "outputs": []
    },
    {
      "cell_type": "code",
      "source": [
        "decision_tree = DecisionTreeClassifier()\n",
        "decision_tree.fit(X_train, y_train)"
      ],
      "metadata": {
        "colab": {
          "base_uri": "https://localhost:8080/",
          "height": 74
        },
        "id": "DUX6maemHsrL",
        "outputId": "8a08f763-c9bb-4b34-c51c-a9b8977b2873"
      },
      "execution_count": null,
      "outputs": [
        {
          "output_type": "execute_result",
          "data": {
            "text/plain": [
              "DecisionTreeClassifier()"
            ],
            "text/html": [
              "<style>#sk-container-id-2 {color: black;}#sk-container-id-2 pre{padding: 0;}#sk-container-id-2 div.sk-toggleable {background-color: white;}#sk-container-id-2 label.sk-toggleable__label {cursor: pointer;display: block;width: 100%;margin-bottom: 0;padding: 0.3em;box-sizing: border-box;text-align: center;}#sk-container-id-2 label.sk-toggleable__label-arrow:before {content: \"▸\";float: left;margin-right: 0.25em;color: #696969;}#sk-container-id-2 label.sk-toggleable__label-arrow:hover:before {color: black;}#sk-container-id-2 div.sk-estimator:hover label.sk-toggleable__label-arrow:before {color: black;}#sk-container-id-2 div.sk-toggleable__content {max-height: 0;max-width: 0;overflow: hidden;text-align: left;background-color: #f0f8ff;}#sk-container-id-2 div.sk-toggleable__content pre {margin: 0.2em;color: black;border-radius: 0.25em;background-color: #f0f8ff;}#sk-container-id-2 input.sk-toggleable__control:checked~div.sk-toggleable__content {max-height: 200px;max-width: 100%;overflow: auto;}#sk-container-id-2 input.sk-toggleable__control:checked~label.sk-toggleable__label-arrow:before {content: \"▾\";}#sk-container-id-2 div.sk-estimator input.sk-toggleable__control:checked~label.sk-toggleable__label {background-color: #d4ebff;}#sk-container-id-2 div.sk-label input.sk-toggleable__control:checked~label.sk-toggleable__label {background-color: #d4ebff;}#sk-container-id-2 input.sk-hidden--visually {border: 0;clip: rect(1px 1px 1px 1px);clip: rect(1px, 1px, 1px, 1px);height: 1px;margin: -1px;overflow: hidden;padding: 0;position: absolute;width: 1px;}#sk-container-id-2 div.sk-estimator {font-family: monospace;background-color: #f0f8ff;border: 1px dotted black;border-radius: 0.25em;box-sizing: border-box;margin-bottom: 0.5em;}#sk-container-id-2 div.sk-estimator:hover {background-color: #d4ebff;}#sk-container-id-2 div.sk-parallel-item::after {content: \"\";width: 100%;border-bottom: 1px solid gray;flex-grow: 1;}#sk-container-id-2 div.sk-label:hover label.sk-toggleable__label {background-color: #d4ebff;}#sk-container-id-2 div.sk-serial::before {content: \"\";position: absolute;border-left: 1px solid gray;box-sizing: border-box;top: 0;bottom: 0;left: 50%;z-index: 0;}#sk-container-id-2 div.sk-serial {display: flex;flex-direction: column;align-items: center;background-color: white;padding-right: 0.2em;padding-left: 0.2em;position: relative;}#sk-container-id-2 div.sk-item {position: relative;z-index: 1;}#sk-container-id-2 div.sk-parallel {display: flex;align-items: stretch;justify-content: center;background-color: white;position: relative;}#sk-container-id-2 div.sk-item::before, #sk-container-id-2 div.sk-parallel-item::before {content: \"\";position: absolute;border-left: 1px solid gray;box-sizing: border-box;top: 0;bottom: 0;left: 50%;z-index: -1;}#sk-container-id-2 div.sk-parallel-item {display: flex;flex-direction: column;z-index: 1;position: relative;background-color: white;}#sk-container-id-2 div.sk-parallel-item:first-child::after {align-self: flex-end;width: 50%;}#sk-container-id-2 div.sk-parallel-item:last-child::after {align-self: flex-start;width: 50%;}#sk-container-id-2 div.sk-parallel-item:only-child::after {width: 0;}#sk-container-id-2 div.sk-dashed-wrapped {border: 1px dashed gray;margin: 0 0.4em 0.5em 0.4em;box-sizing: border-box;padding-bottom: 0.4em;background-color: white;}#sk-container-id-2 div.sk-label label {font-family: monospace;font-weight: bold;display: inline-block;line-height: 1.2em;}#sk-container-id-2 div.sk-label-container {text-align: center;}#sk-container-id-2 div.sk-container {/* jupyter's `normalize.less` sets `[hidden] { display: none; }` but bootstrap.min.css set `[hidden] { display: none !important; }` so we also need the `!important` here to be able to override the default hidden behavior on the sphinx rendered scikit-learn.org. See: https://github.com/scikit-learn/scikit-learn/issues/21755 */display: inline-block !important;position: relative;}#sk-container-id-2 div.sk-text-repr-fallback {display: none;}</style><div id=\"sk-container-id-2\" class=\"sk-top-container\"><div class=\"sk-text-repr-fallback\"><pre>DecisionTreeClassifier()</pre><b>In a Jupyter environment, please rerun this cell to show the HTML representation or trust the notebook. <br />On GitHub, the HTML representation is unable to render, please try loading this page with nbviewer.org.</b></div><div class=\"sk-container\" hidden><div class=\"sk-item\"><div class=\"sk-estimator sk-toggleable\"><input class=\"sk-toggleable__control sk-hidden--visually\" id=\"sk-estimator-id-2\" type=\"checkbox\" checked><label for=\"sk-estimator-id-2\" class=\"sk-toggleable__label sk-toggleable__label-arrow\">DecisionTreeClassifier</label><div class=\"sk-toggleable__content\"><pre>DecisionTreeClassifier()</pre></div></div></div></div></div>"
            ]
          },
          "metadata": {},
          "execution_count": 23
        }
      ]
    },
    {
      "cell_type": "code",
      "source": [
        "# Predicting the target variable\n",
        "y_pred = decision_tree.predict(X_test)"
      ],
      "metadata": {
        "id": "ats1KIOBykBw"
      },
      "execution_count": null,
      "outputs": []
    },
    {
      "cell_type": "markdown",
      "source": [
        "### Model Evaluation"
      ],
      "metadata": {
        "id": "Vm_5r2AhJsuV"
      }
    },
    {
      "cell_type": "code",
      "source": [
        "accuracy = accuracy_score(y_test, y_pred)\n",
        "print(\"Accuracy of the model:\", accuracy)"
      ],
      "metadata": {
        "colab": {
          "base_uri": "https://localhost:8080/"
        },
        "id": "4kf6X2YwJo_f",
        "outputId": "4b3fb857-91ee-4b2a-9372-1555f6de82ca"
      },
      "execution_count": null,
      "outputs": [
        {
          "output_type": "stream",
          "name": "stdout",
          "text": [
            "Accuracy of the model: 0.9685\n"
          ]
        }
      ]
    },
    {
      "cell_type": "markdown",
      "source": [
        "# Predicting Hospital Readmission Using Logistic Regression"
      ],
      "metadata": {
        "id": "EettIplSQYbF"
      }
    },
    {
      "cell_type": "markdown",
      "source": [
        " Predicting Hospital Readmission Using Logistic Regression\n",
        "    \n",
        "    Dataset:\n",
        "   \n",
        "   Hospital Readmission Dataset\n",
        "    \n",
        "    Preprocessing Steps:\n",
        "Handle missing values (e.g., fill missing values with mode for categorical variables).\n",
        "\n",
        "\n",
        "Encode categorical variables (e.g., one-hot encoding for hospital type, region, etc.).\n",
        "\n",
        "\n",
        "Standardize numerical features.\n",
        "    \n",
        "    Task: 2\n",
        "Implement logistic regression to predict hospital readmission and evaluate the model using precision, recall, and F1-score.\n"
      ],
      "metadata": {
        "id": "KNlPoviPykjj"
      }
    },
    {
      "cell_type": "code",
      "source": [
        "hospital_data = pd.read_csv('/content/drive/MyDrive/Datasets /BWF_Week6_Datasets/HospitalReadmissions.csv')\n",
        "hospital_data.head()"
      ],
      "metadata": {
        "id": "N33q6uo8zBWy",
        "colab": {
          "base_uri": "https://localhost:8080/",
          "height": 313
        },
        "outputId": "3666e480-481b-45e6-bb0d-9d5f599b2eaf"
      },
      "execution_count": null,
      "outputs": [
        {
          "output_type": "execute_result",
          "data": {
            "text/plain": [
              "       age  time_in_hospital  n_lab_procedures  n_procedures  n_medications  \\\n",
              "0  [70-80)                 8                72             1             18   \n",
              "1  [70-80)                 3                34             2             13   \n",
              "2  [50-60)                 5                45             0             18   \n",
              "3  [70-80)                 2                36             0             12   \n",
              "4  [60-70)                 1                42             0              7   \n",
              "\n",
              "   n_outpatient  n_inpatient  n_emergency medical_specialty       diag_1  \\\n",
              "0             2            0            0           Missing  Circulatory   \n",
              "1             0            0            0             Other        Other   \n",
              "2             0            0            0           Missing  Circulatory   \n",
              "3             1            0            0           Missing  Circulatory   \n",
              "4             0            0            0  InternalMedicine        Other   \n",
              "\n",
              "        diag_2       diag_3 glucose_test A1Ctest change diabetes_med  \\\n",
              "0  Respiratory        Other           no      no     no          yes   \n",
              "1        Other        Other           no      no     no          yes   \n",
              "2  Circulatory  Circulatory           no      no    yes          yes   \n",
              "3        Other     Diabetes           no      no    yes          yes   \n",
              "4  Circulatory  Respiratory           no      no     no          yes   \n",
              "\n",
              "  readmitted  \n",
              "0         no  \n",
              "1         no  \n",
              "2        yes  \n",
              "3        yes  \n",
              "4         no  "
            ],
            "text/html": [
              "\n",
              "  <div id=\"df-470a9dd1-45bf-4c86-88a1-af9295a99b6b\" class=\"colab-df-container\">\n",
              "    <div>\n",
              "<style scoped>\n",
              "    .dataframe tbody tr th:only-of-type {\n",
              "        vertical-align: middle;\n",
              "    }\n",
              "\n",
              "    .dataframe tbody tr th {\n",
              "        vertical-align: top;\n",
              "    }\n",
              "\n",
              "    .dataframe thead th {\n",
              "        text-align: right;\n",
              "    }\n",
              "</style>\n",
              "<table border=\"1\" class=\"dataframe\">\n",
              "  <thead>\n",
              "    <tr style=\"text-align: right;\">\n",
              "      <th></th>\n",
              "      <th>age</th>\n",
              "      <th>time_in_hospital</th>\n",
              "      <th>n_lab_procedures</th>\n",
              "      <th>n_procedures</th>\n",
              "      <th>n_medications</th>\n",
              "      <th>n_outpatient</th>\n",
              "      <th>n_inpatient</th>\n",
              "      <th>n_emergency</th>\n",
              "      <th>medical_specialty</th>\n",
              "      <th>diag_1</th>\n",
              "      <th>diag_2</th>\n",
              "      <th>diag_3</th>\n",
              "      <th>glucose_test</th>\n",
              "      <th>A1Ctest</th>\n",
              "      <th>change</th>\n",
              "      <th>diabetes_med</th>\n",
              "      <th>readmitted</th>\n",
              "    </tr>\n",
              "  </thead>\n",
              "  <tbody>\n",
              "    <tr>\n",
              "      <th>0</th>\n",
              "      <td>[70-80)</td>\n",
              "      <td>8</td>\n",
              "      <td>72</td>\n",
              "      <td>1</td>\n",
              "      <td>18</td>\n",
              "      <td>2</td>\n",
              "      <td>0</td>\n",
              "      <td>0</td>\n",
              "      <td>Missing</td>\n",
              "      <td>Circulatory</td>\n",
              "      <td>Respiratory</td>\n",
              "      <td>Other</td>\n",
              "      <td>no</td>\n",
              "      <td>no</td>\n",
              "      <td>no</td>\n",
              "      <td>yes</td>\n",
              "      <td>no</td>\n",
              "    </tr>\n",
              "    <tr>\n",
              "      <th>1</th>\n",
              "      <td>[70-80)</td>\n",
              "      <td>3</td>\n",
              "      <td>34</td>\n",
              "      <td>2</td>\n",
              "      <td>13</td>\n",
              "      <td>0</td>\n",
              "      <td>0</td>\n",
              "      <td>0</td>\n",
              "      <td>Other</td>\n",
              "      <td>Other</td>\n",
              "      <td>Other</td>\n",
              "      <td>Other</td>\n",
              "      <td>no</td>\n",
              "      <td>no</td>\n",
              "      <td>no</td>\n",
              "      <td>yes</td>\n",
              "      <td>no</td>\n",
              "    </tr>\n",
              "    <tr>\n",
              "      <th>2</th>\n",
              "      <td>[50-60)</td>\n",
              "      <td>5</td>\n",
              "      <td>45</td>\n",
              "      <td>0</td>\n",
              "      <td>18</td>\n",
              "      <td>0</td>\n",
              "      <td>0</td>\n",
              "      <td>0</td>\n",
              "      <td>Missing</td>\n",
              "      <td>Circulatory</td>\n",
              "      <td>Circulatory</td>\n",
              "      <td>Circulatory</td>\n",
              "      <td>no</td>\n",
              "      <td>no</td>\n",
              "      <td>yes</td>\n",
              "      <td>yes</td>\n",
              "      <td>yes</td>\n",
              "    </tr>\n",
              "    <tr>\n",
              "      <th>3</th>\n",
              "      <td>[70-80)</td>\n",
              "      <td>2</td>\n",
              "      <td>36</td>\n",
              "      <td>0</td>\n",
              "      <td>12</td>\n",
              "      <td>1</td>\n",
              "      <td>0</td>\n",
              "      <td>0</td>\n",
              "      <td>Missing</td>\n",
              "      <td>Circulatory</td>\n",
              "      <td>Other</td>\n",
              "      <td>Diabetes</td>\n",
              "      <td>no</td>\n",
              "      <td>no</td>\n",
              "      <td>yes</td>\n",
              "      <td>yes</td>\n",
              "      <td>yes</td>\n",
              "    </tr>\n",
              "    <tr>\n",
              "      <th>4</th>\n",
              "      <td>[60-70)</td>\n",
              "      <td>1</td>\n",
              "      <td>42</td>\n",
              "      <td>0</td>\n",
              "      <td>7</td>\n",
              "      <td>0</td>\n",
              "      <td>0</td>\n",
              "      <td>0</td>\n",
              "      <td>InternalMedicine</td>\n",
              "      <td>Other</td>\n",
              "      <td>Circulatory</td>\n",
              "      <td>Respiratory</td>\n",
              "      <td>no</td>\n",
              "      <td>no</td>\n",
              "      <td>no</td>\n",
              "      <td>yes</td>\n",
              "      <td>no</td>\n",
              "    </tr>\n",
              "  </tbody>\n",
              "</table>\n",
              "</div>\n",
              "    <div class=\"colab-df-buttons\">\n",
              "\n",
              "  <div class=\"colab-df-container\">\n",
              "    <button class=\"colab-df-convert\" onclick=\"convertToInteractive('df-470a9dd1-45bf-4c86-88a1-af9295a99b6b')\"\n",
              "            title=\"Convert this dataframe to an interactive table.\"\n",
              "            style=\"display:none;\">\n",
              "\n",
              "  <svg xmlns=\"http://www.w3.org/2000/svg\" height=\"24px\" viewBox=\"0 -960 960 960\">\n",
              "    <path d=\"M120-120v-720h720v720H120Zm60-500h600v-160H180v160Zm220 220h160v-160H400v160Zm0 220h160v-160H400v160ZM180-400h160v-160H180v160Zm440 0h160v-160H620v160ZM180-180h160v-160H180v160Zm440 0h160v-160H620v160Z\"/>\n",
              "  </svg>\n",
              "    </button>\n",
              "\n",
              "  <style>\n",
              "    .colab-df-container {\n",
              "      display:flex;\n",
              "      gap: 12px;\n",
              "    }\n",
              "\n",
              "    .colab-df-convert {\n",
              "      background-color: #E8F0FE;\n",
              "      border: none;\n",
              "      border-radius: 50%;\n",
              "      cursor: pointer;\n",
              "      display: none;\n",
              "      fill: #1967D2;\n",
              "      height: 32px;\n",
              "      padding: 0 0 0 0;\n",
              "      width: 32px;\n",
              "    }\n",
              "\n",
              "    .colab-df-convert:hover {\n",
              "      background-color: #E2EBFA;\n",
              "      box-shadow: 0px 1px 2px rgba(60, 64, 67, 0.3), 0px 1px 3px 1px rgba(60, 64, 67, 0.15);\n",
              "      fill: #174EA6;\n",
              "    }\n",
              "\n",
              "    .colab-df-buttons div {\n",
              "      margin-bottom: 4px;\n",
              "    }\n",
              "\n",
              "    [theme=dark] .colab-df-convert {\n",
              "      background-color: #3B4455;\n",
              "      fill: #D2E3FC;\n",
              "    }\n",
              "\n",
              "    [theme=dark] .colab-df-convert:hover {\n",
              "      background-color: #434B5C;\n",
              "      box-shadow: 0px 1px 3px 1px rgba(0, 0, 0, 0.15);\n",
              "      filter: drop-shadow(0px 1px 2px rgba(0, 0, 0, 0.3));\n",
              "      fill: #FFFFFF;\n",
              "    }\n",
              "  </style>\n",
              "\n",
              "    <script>\n",
              "      const buttonEl =\n",
              "        document.querySelector('#df-470a9dd1-45bf-4c86-88a1-af9295a99b6b button.colab-df-convert');\n",
              "      buttonEl.style.display =\n",
              "        google.colab.kernel.accessAllowed ? 'block' : 'none';\n",
              "\n",
              "      async function convertToInteractive(key) {\n",
              "        const element = document.querySelector('#df-470a9dd1-45bf-4c86-88a1-af9295a99b6b');\n",
              "        const dataTable =\n",
              "          await google.colab.kernel.invokeFunction('convertToInteractive',\n",
              "                                                    [key], {});\n",
              "        if (!dataTable) return;\n",
              "\n",
              "        const docLinkHtml = 'Like what you see? Visit the ' +\n",
              "          '<a target=\"_blank\" href=https://colab.research.google.com/notebooks/data_table.ipynb>data table notebook</a>'\n",
              "          + ' to learn more about interactive tables.';\n",
              "        element.innerHTML = '';\n",
              "        dataTable['output_type'] = 'display_data';\n",
              "        await google.colab.output.renderOutput(dataTable, element);\n",
              "        const docLink = document.createElement('div');\n",
              "        docLink.innerHTML = docLinkHtml;\n",
              "        element.appendChild(docLink);\n",
              "      }\n",
              "    </script>\n",
              "  </div>\n",
              "\n",
              "\n",
              "<div id=\"df-3d1eea63-c998-4647-9b86-a2934dd378e9\">\n",
              "  <button class=\"colab-df-quickchart\" onclick=\"quickchart('df-3d1eea63-c998-4647-9b86-a2934dd378e9')\"\n",
              "            title=\"Suggest charts\"\n",
              "            style=\"display:none;\">\n",
              "\n",
              "<svg xmlns=\"http://www.w3.org/2000/svg\" height=\"24px\"viewBox=\"0 0 24 24\"\n",
              "     width=\"24px\">\n",
              "    <g>\n",
              "        <path d=\"M19 3H5c-1.1 0-2 .9-2 2v14c0 1.1.9 2 2 2h14c1.1 0 2-.9 2-2V5c0-1.1-.9-2-2-2zM9 17H7v-7h2v7zm4 0h-2V7h2v10zm4 0h-2v-4h2v4z\"/>\n",
              "    </g>\n",
              "</svg>\n",
              "  </button>\n",
              "\n",
              "<style>\n",
              "  .colab-df-quickchart {\n",
              "      --bg-color: #E8F0FE;\n",
              "      --fill-color: #1967D2;\n",
              "      --hover-bg-color: #E2EBFA;\n",
              "      --hover-fill-color: #174EA6;\n",
              "      --disabled-fill-color: #AAA;\n",
              "      --disabled-bg-color: #DDD;\n",
              "  }\n",
              "\n",
              "  [theme=dark] .colab-df-quickchart {\n",
              "      --bg-color: #3B4455;\n",
              "      --fill-color: #D2E3FC;\n",
              "      --hover-bg-color: #434B5C;\n",
              "      --hover-fill-color: #FFFFFF;\n",
              "      --disabled-bg-color: #3B4455;\n",
              "      --disabled-fill-color: #666;\n",
              "  }\n",
              "\n",
              "  .colab-df-quickchart {\n",
              "    background-color: var(--bg-color);\n",
              "    border: none;\n",
              "    border-radius: 50%;\n",
              "    cursor: pointer;\n",
              "    display: none;\n",
              "    fill: var(--fill-color);\n",
              "    height: 32px;\n",
              "    padding: 0;\n",
              "    width: 32px;\n",
              "  }\n",
              "\n",
              "  .colab-df-quickchart:hover {\n",
              "    background-color: var(--hover-bg-color);\n",
              "    box-shadow: 0 1px 2px rgba(60, 64, 67, 0.3), 0 1px 3px 1px rgba(60, 64, 67, 0.15);\n",
              "    fill: var(--button-hover-fill-color);\n",
              "  }\n",
              "\n",
              "  .colab-df-quickchart-complete:disabled,\n",
              "  .colab-df-quickchart-complete:disabled:hover {\n",
              "    background-color: var(--disabled-bg-color);\n",
              "    fill: var(--disabled-fill-color);\n",
              "    box-shadow: none;\n",
              "  }\n",
              "\n",
              "  .colab-df-spinner {\n",
              "    border: 2px solid var(--fill-color);\n",
              "    border-color: transparent;\n",
              "    border-bottom-color: var(--fill-color);\n",
              "    animation:\n",
              "      spin 1s steps(1) infinite;\n",
              "  }\n",
              "\n",
              "  @keyframes spin {\n",
              "    0% {\n",
              "      border-color: transparent;\n",
              "      border-bottom-color: var(--fill-color);\n",
              "      border-left-color: var(--fill-color);\n",
              "    }\n",
              "    20% {\n",
              "      border-color: transparent;\n",
              "      border-left-color: var(--fill-color);\n",
              "      border-top-color: var(--fill-color);\n",
              "    }\n",
              "    30% {\n",
              "      border-color: transparent;\n",
              "      border-left-color: var(--fill-color);\n",
              "      border-top-color: var(--fill-color);\n",
              "      border-right-color: var(--fill-color);\n",
              "    }\n",
              "    40% {\n",
              "      border-color: transparent;\n",
              "      border-right-color: var(--fill-color);\n",
              "      border-top-color: var(--fill-color);\n",
              "    }\n",
              "    60% {\n",
              "      border-color: transparent;\n",
              "      border-right-color: var(--fill-color);\n",
              "    }\n",
              "    80% {\n",
              "      border-color: transparent;\n",
              "      border-right-color: var(--fill-color);\n",
              "      border-bottom-color: var(--fill-color);\n",
              "    }\n",
              "    90% {\n",
              "      border-color: transparent;\n",
              "      border-bottom-color: var(--fill-color);\n",
              "    }\n",
              "  }\n",
              "</style>\n",
              "\n",
              "  <script>\n",
              "    async function quickchart(key) {\n",
              "      const quickchartButtonEl =\n",
              "        document.querySelector('#' + key + ' button');\n",
              "      quickchartButtonEl.disabled = true;  // To prevent multiple clicks.\n",
              "      quickchartButtonEl.classList.add('colab-df-spinner');\n",
              "      try {\n",
              "        const charts = await google.colab.kernel.invokeFunction(\n",
              "            'suggestCharts', [key], {});\n",
              "      } catch (error) {\n",
              "        console.error('Error during call to suggestCharts:', error);\n",
              "      }\n",
              "      quickchartButtonEl.classList.remove('colab-df-spinner');\n",
              "      quickchartButtonEl.classList.add('colab-df-quickchart-complete');\n",
              "    }\n",
              "    (() => {\n",
              "      let quickchartButtonEl =\n",
              "        document.querySelector('#df-3d1eea63-c998-4647-9b86-a2934dd378e9 button');\n",
              "      quickchartButtonEl.style.display =\n",
              "        google.colab.kernel.accessAllowed ? 'block' : 'none';\n",
              "    })();\n",
              "  </script>\n",
              "</div>\n",
              "\n",
              "    </div>\n",
              "  </div>\n"
            ],
            "application/vnd.google.colaboratory.intrinsic+json": {
              "type": "dataframe",
              "variable_name": "hospital_data",
              "summary": "{\n  \"name\": \"hospital_data\",\n  \"rows\": 25000,\n  \"fields\": [\n    {\n      \"column\": \"age\",\n      \"properties\": {\n        \"dtype\": \"category\",\n        \"num_unique_values\": 6,\n        \"samples\": [\n          \"[70-80)\",\n          \"[50-60)\",\n          \"[90-100)\"\n        ],\n        \"semantic_type\": \"\",\n        \"description\": \"\"\n      }\n    },\n    {\n      \"column\": \"time_in_hospital\",\n      \"properties\": {\n        \"dtype\": \"number\",\n        \"std\": 3,\n        \"min\": 1,\n        \"max\": 14,\n        \"num_unique_values\": 14,\n        \"samples\": [\n          12,\n          9,\n          8\n        ],\n        \"semantic_type\": \"\",\n        \"description\": \"\"\n      }\n    },\n    {\n      \"column\": \"n_lab_procedures\",\n      \"properties\": {\n        \"dtype\": \"number\",\n        \"std\": 19,\n        \"min\": 1,\n        \"max\": 113,\n        \"num_unique_values\": 109,\n        \"samples\": [\n          91,\n          35,\n          42\n        ],\n        \"semantic_type\": \"\",\n        \"description\": \"\"\n      }\n    },\n    {\n      \"column\": \"n_procedures\",\n      \"properties\": {\n        \"dtype\": \"number\",\n        \"std\": 1,\n        \"min\": 0,\n        \"max\": 6,\n        \"num_unique_values\": 7,\n        \"samples\": [\n          1,\n          2,\n          5\n        ],\n        \"semantic_type\": \"\",\n        \"description\": \"\"\n      }\n    },\n    {\n      \"column\": \"n_medications\",\n      \"properties\": {\n        \"dtype\": \"number\",\n        \"std\": 8,\n        \"min\": 1,\n        \"max\": 79,\n        \"num_unique_values\": 70,\n        \"samples\": [\n          1,\n          18,\n          37\n        ],\n        \"semantic_type\": \"\",\n        \"description\": \"\"\n      }\n    },\n    {\n      \"column\": \"n_outpatient\",\n      \"properties\": {\n        \"dtype\": \"number\",\n        \"std\": 1,\n        \"min\": 0,\n        \"max\": 33,\n        \"num_unique_values\": 23,\n        \"samples\": [\n          12,\n          8,\n          2\n        ],\n        \"semantic_type\": \"\",\n        \"description\": \"\"\n      }\n    },\n    {\n      \"column\": \"n_inpatient\",\n      \"properties\": {\n        \"dtype\": \"number\",\n        \"std\": 1,\n        \"min\": 0,\n        \"max\": 15,\n        \"num_unique_values\": 16,\n        \"samples\": [\n          0,\n          2,\n          9\n        ],\n        \"semantic_type\": \"\",\n        \"description\": \"\"\n      }\n    },\n    {\n      \"column\": \"n_emergency\",\n      \"properties\": {\n        \"dtype\": \"number\",\n        \"std\": 0,\n        \"min\": 0,\n        \"max\": 64,\n        \"num_unique_values\": 21,\n        \"samples\": [\n          0,\n          21,\n          9\n        ],\n        \"semantic_type\": \"\",\n        \"description\": \"\"\n      }\n    },\n    {\n      \"column\": \"medical_specialty\",\n      \"properties\": {\n        \"dtype\": \"category\",\n        \"num_unique_values\": 7,\n        \"samples\": [\n          \"Missing\",\n          \"Other\",\n          \"Surgery\"\n        ],\n        \"semantic_type\": \"\",\n        \"description\": \"\"\n      }\n    },\n    {\n      \"column\": \"diag_1\",\n      \"properties\": {\n        \"dtype\": \"category\",\n        \"num_unique_values\": 8,\n        \"samples\": [\n          \"Other\",\n          \"Diabetes\",\n          \"Circulatory\"\n        ],\n        \"semantic_type\": \"\",\n        \"description\": \"\"\n      }\n    },\n    {\n      \"column\": \"diag_2\",\n      \"properties\": {\n        \"dtype\": \"category\",\n        \"num_unique_values\": 8,\n        \"samples\": [\n          \"Other\",\n          \"Digestive\",\n          \"Respiratory\"\n        ],\n        \"semantic_type\": \"\",\n        \"description\": \"\"\n      }\n    },\n    {\n      \"column\": \"diag_3\",\n      \"properties\": {\n        \"dtype\": \"category\",\n        \"num_unique_values\": 8,\n        \"samples\": [\n          \"Circulatory\",\n          \"Musculoskeletal\",\n          \"Other\"\n        ],\n        \"semantic_type\": \"\",\n        \"description\": \"\"\n      }\n    },\n    {\n      \"column\": \"glucose_test\",\n      \"properties\": {\n        \"dtype\": \"category\",\n        \"num_unique_values\": 3,\n        \"samples\": [\n          \"no\",\n          \"normal\",\n          \"high\"\n        ],\n        \"semantic_type\": \"\",\n        \"description\": \"\"\n      }\n    },\n    {\n      \"column\": \"A1Ctest\",\n      \"properties\": {\n        \"dtype\": \"category\",\n        \"num_unique_values\": 3,\n        \"samples\": [\n          \"no\",\n          \"normal\",\n          \"high\"\n        ],\n        \"semantic_type\": \"\",\n        \"description\": \"\"\n      }\n    },\n    {\n      \"column\": \"change\",\n      \"properties\": {\n        \"dtype\": \"category\",\n        \"num_unique_values\": 2,\n        \"samples\": [\n          \"yes\",\n          \"no\"\n        ],\n        \"semantic_type\": \"\",\n        \"description\": \"\"\n      }\n    },\n    {\n      \"column\": \"diabetes_med\",\n      \"properties\": {\n        \"dtype\": \"category\",\n        \"num_unique_values\": 2,\n        \"samples\": [\n          \"no\",\n          \"yes\"\n        ],\n        \"semantic_type\": \"\",\n        \"description\": \"\"\n      }\n    },\n    {\n      \"column\": \"readmitted\",\n      \"properties\": {\n        \"dtype\": \"category\",\n        \"num_unique_values\": 2,\n        \"samples\": [\n          \"yes\",\n          \"no\"\n        ],\n        \"semantic_type\": \"\",\n        \"description\": \"\"\n      }\n    }\n  ]\n}"
            }
          },
          "metadata": {},
          "execution_count": 28
        }
      ]
    },
    {
      "cell_type": "code",
      "source": [
        "hospital_data.shape"
      ],
      "metadata": {
        "id": "kk7vwjpXzCjC",
        "colab": {
          "base_uri": "https://localhost:8080/"
        },
        "outputId": "ff15c253-2aae-416c-c692-045051d47310"
      },
      "execution_count": null,
      "outputs": [
        {
          "output_type": "execute_result",
          "data": {
            "text/plain": [
              "(25000, 17)"
            ]
          },
          "metadata": {},
          "execution_count": 29
        }
      ]
    },
    {
      "cell_type": "code",
      "source": [
        "hospital_data.describe()"
      ],
      "metadata": {
        "colab": {
          "base_uri": "https://localhost:8080/",
          "height": 300
        },
        "id": "ah4nXGgkMqvG",
        "outputId": "b0cdd8cd-9239-4928-d160-b99a538832a6"
      },
      "execution_count": null,
      "outputs": [
        {
          "output_type": "execute_result",
          "data": {
            "text/plain": [
              "       time_in_hospital  n_lab_procedures  n_procedures  n_medications  \\\n",
              "count       25000.00000       25000.00000  25000.000000   25000.000000   \n",
              "mean            4.45332          43.24076      1.352360      16.252400   \n",
              "std             3.00147          19.81862      1.715179       8.060532   \n",
              "min             1.00000           1.00000      0.000000       1.000000   \n",
              "25%             2.00000          31.00000      0.000000      11.000000   \n",
              "50%             4.00000          44.00000      1.000000      15.000000   \n",
              "75%             6.00000          57.00000      2.000000      20.000000   \n",
              "max            14.00000         113.00000      6.000000      79.000000   \n",
              "\n",
              "       n_outpatient   n_inpatient   n_emergency  \n",
              "count  25000.000000  25000.000000  25000.000000  \n",
              "mean       0.366400      0.615960      0.186600  \n",
              "std        1.195478      1.177951      0.885873  \n",
              "min        0.000000      0.000000      0.000000  \n",
              "25%        0.000000      0.000000      0.000000  \n",
              "50%        0.000000      0.000000      0.000000  \n",
              "75%        0.000000      1.000000      0.000000  \n",
              "max       33.000000     15.000000     64.000000  "
            ],
            "text/html": [
              "\n",
              "  <div id=\"df-3a6f7561-1354-4975-a6c8-a554f2d0ba07\" class=\"colab-df-container\">\n",
              "    <div>\n",
              "<style scoped>\n",
              "    .dataframe tbody tr th:only-of-type {\n",
              "        vertical-align: middle;\n",
              "    }\n",
              "\n",
              "    .dataframe tbody tr th {\n",
              "        vertical-align: top;\n",
              "    }\n",
              "\n",
              "    .dataframe thead th {\n",
              "        text-align: right;\n",
              "    }\n",
              "</style>\n",
              "<table border=\"1\" class=\"dataframe\">\n",
              "  <thead>\n",
              "    <tr style=\"text-align: right;\">\n",
              "      <th></th>\n",
              "      <th>time_in_hospital</th>\n",
              "      <th>n_lab_procedures</th>\n",
              "      <th>n_procedures</th>\n",
              "      <th>n_medications</th>\n",
              "      <th>n_outpatient</th>\n",
              "      <th>n_inpatient</th>\n",
              "      <th>n_emergency</th>\n",
              "    </tr>\n",
              "  </thead>\n",
              "  <tbody>\n",
              "    <tr>\n",
              "      <th>count</th>\n",
              "      <td>25000.00000</td>\n",
              "      <td>25000.00000</td>\n",
              "      <td>25000.000000</td>\n",
              "      <td>25000.000000</td>\n",
              "      <td>25000.000000</td>\n",
              "      <td>25000.000000</td>\n",
              "      <td>25000.000000</td>\n",
              "    </tr>\n",
              "    <tr>\n",
              "      <th>mean</th>\n",
              "      <td>4.45332</td>\n",
              "      <td>43.24076</td>\n",
              "      <td>1.352360</td>\n",
              "      <td>16.252400</td>\n",
              "      <td>0.366400</td>\n",
              "      <td>0.615960</td>\n",
              "      <td>0.186600</td>\n",
              "    </tr>\n",
              "    <tr>\n",
              "      <th>std</th>\n",
              "      <td>3.00147</td>\n",
              "      <td>19.81862</td>\n",
              "      <td>1.715179</td>\n",
              "      <td>8.060532</td>\n",
              "      <td>1.195478</td>\n",
              "      <td>1.177951</td>\n",
              "      <td>0.885873</td>\n",
              "    </tr>\n",
              "    <tr>\n",
              "      <th>min</th>\n",
              "      <td>1.00000</td>\n",
              "      <td>1.00000</td>\n",
              "      <td>0.000000</td>\n",
              "      <td>1.000000</td>\n",
              "      <td>0.000000</td>\n",
              "      <td>0.000000</td>\n",
              "      <td>0.000000</td>\n",
              "    </tr>\n",
              "    <tr>\n",
              "      <th>25%</th>\n",
              "      <td>2.00000</td>\n",
              "      <td>31.00000</td>\n",
              "      <td>0.000000</td>\n",
              "      <td>11.000000</td>\n",
              "      <td>0.000000</td>\n",
              "      <td>0.000000</td>\n",
              "      <td>0.000000</td>\n",
              "    </tr>\n",
              "    <tr>\n",
              "      <th>50%</th>\n",
              "      <td>4.00000</td>\n",
              "      <td>44.00000</td>\n",
              "      <td>1.000000</td>\n",
              "      <td>15.000000</td>\n",
              "      <td>0.000000</td>\n",
              "      <td>0.000000</td>\n",
              "      <td>0.000000</td>\n",
              "    </tr>\n",
              "    <tr>\n",
              "      <th>75%</th>\n",
              "      <td>6.00000</td>\n",
              "      <td>57.00000</td>\n",
              "      <td>2.000000</td>\n",
              "      <td>20.000000</td>\n",
              "      <td>0.000000</td>\n",
              "      <td>1.000000</td>\n",
              "      <td>0.000000</td>\n",
              "    </tr>\n",
              "    <tr>\n",
              "      <th>max</th>\n",
              "      <td>14.00000</td>\n",
              "      <td>113.00000</td>\n",
              "      <td>6.000000</td>\n",
              "      <td>79.000000</td>\n",
              "      <td>33.000000</td>\n",
              "      <td>15.000000</td>\n",
              "      <td>64.000000</td>\n",
              "    </tr>\n",
              "  </tbody>\n",
              "</table>\n",
              "</div>\n",
              "    <div class=\"colab-df-buttons\">\n",
              "\n",
              "  <div class=\"colab-df-container\">\n",
              "    <button class=\"colab-df-convert\" onclick=\"convertToInteractive('df-3a6f7561-1354-4975-a6c8-a554f2d0ba07')\"\n",
              "            title=\"Convert this dataframe to an interactive table.\"\n",
              "            style=\"display:none;\">\n",
              "\n",
              "  <svg xmlns=\"http://www.w3.org/2000/svg\" height=\"24px\" viewBox=\"0 -960 960 960\">\n",
              "    <path d=\"M120-120v-720h720v720H120Zm60-500h600v-160H180v160Zm220 220h160v-160H400v160Zm0 220h160v-160H400v160ZM180-400h160v-160H180v160Zm440 0h160v-160H620v160ZM180-180h160v-160H180v160Zm440 0h160v-160H620v160Z\"/>\n",
              "  </svg>\n",
              "    </button>\n",
              "\n",
              "  <style>\n",
              "    .colab-df-container {\n",
              "      display:flex;\n",
              "      gap: 12px;\n",
              "    }\n",
              "\n",
              "    .colab-df-convert {\n",
              "      background-color: #E8F0FE;\n",
              "      border: none;\n",
              "      border-radius: 50%;\n",
              "      cursor: pointer;\n",
              "      display: none;\n",
              "      fill: #1967D2;\n",
              "      height: 32px;\n",
              "      padding: 0 0 0 0;\n",
              "      width: 32px;\n",
              "    }\n",
              "\n",
              "    .colab-df-convert:hover {\n",
              "      background-color: #E2EBFA;\n",
              "      box-shadow: 0px 1px 2px rgba(60, 64, 67, 0.3), 0px 1px 3px 1px rgba(60, 64, 67, 0.15);\n",
              "      fill: #174EA6;\n",
              "    }\n",
              "\n",
              "    .colab-df-buttons div {\n",
              "      margin-bottom: 4px;\n",
              "    }\n",
              "\n",
              "    [theme=dark] .colab-df-convert {\n",
              "      background-color: #3B4455;\n",
              "      fill: #D2E3FC;\n",
              "    }\n",
              "\n",
              "    [theme=dark] .colab-df-convert:hover {\n",
              "      background-color: #434B5C;\n",
              "      box-shadow: 0px 1px 3px 1px rgba(0, 0, 0, 0.15);\n",
              "      filter: drop-shadow(0px 1px 2px rgba(0, 0, 0, 0.3));\n",
              "      fill: #FFFFFF;\n",
              "    }\n",
              "  </style>\n",
              "\n",
              "    <script>\n",
              "      const buttonEl =\n",
              "        document.querySelector('#df-3a6f7561-1354-4975-a6c8-a554f2d0ba07 button.colab-df-convert');\n",
              "      buttonEl.style.display =\n",
              "        google.colab.kernel.accessAllowed ? 'block' : 'none';\n",
              "\n",
              "      async function convertToInteractive(key) {\n",
              "        const element = document.querySelector('#df-3a6f7561-1354-4975-a6c8-a554f2d0ba07');\n",
              "        const dataTable =\n",
              "          await google.colab.kernel.invokeFunction('convertToInteractive',\n",
              "                                                    [key], {});\n",
              "        if (!dataTable) return;\n",
              "\n",
              "        const docLinkHtml = 'Like what you see? Visit the ' +\n",
              "          '<a target=\"_blank\" href=https://colab.research.google.com/notebooks/data_table.ipynb>data table notebook</a>'\n",
              "          + ' to learn more about interactive tables.';\n",
              "        element.innerHTML = '';\n",
              "        dataTable['output_type'] = 'display_data';\n",
              "        await google.colab.output.renderOutput(dataTable, element);\n",
              "        const docLink = document.createElement('div');\n",
              "        docLink.innerHTML = docLinkHtml;\n",
              "        element.appendChild(docLink);\n",
              "      }\n",
              "    </script>\n",
              "  </div>\n",
              "\n",
              "\n",
              "<div id=\"df-df3015ec-cb0d-4742-96ca-b55dd3950412\">\n",
              "  <button class=\"colab-df-quickchart\" onclick=\"quickchart('df-df3015ec-cb0d-4742-96ca-b55dd3950412')\"\n",
              "            title=\"Suggest charts\"\n",
              "            style=\"display:none;\">\n",
              "\n",
              "<svg xmlns=\"http://www.w3.org/2000/svg\" height=\"24px\"viewBox=\"0 0 24 24\"\n",
              "     width=\"24px\">\n",
              "    <g>\n",
              "        <path d=\"M19 3H5c-1.1 0-2 .9-2 2v14c0 1.1.9 2 2 2h14c1.1 0 2-.9 2-2V5c0-1.1-.9-2-2-2zM9 17H7v-7h2v7zm4 0h-2V7h2v10zm4 0h-2v-4h2v4z\"/>\n",
              "    </g>\n",
              "</svg>\n",
              "  </button>\n",
              "\n",
              "<style>\n",
              "  .colab-df-quickchart {\n",
              "      --bg-color: #E8F0FE;\n",
              "      --fill-color: #1967D2;\n",
              "      --hover-bg-color: #E2EBFA;\n",
              "      --hover-fill-color: #174EA6;\n",
              "      --disabled-fill-color: #AAA;\n",
              "      --disabled-bg-color: #DDD;\n",
              "  }\n",
              "\n",
              "  [theme=dark] .colab-df-quickchart {\n",
              "      --bg-color: #3B4455;\n",
              "      --fill-color: #D2E3FC;\n",
              "      --hover-bg-color: #434B5C;\n",
              "      --hover-fill-color: #FFFFFF;\n",
              "      --disabled-bg-color: #3B4455;\n",
              "      --disabled-fill-color: #666;\n",
              "  }\n",
              "\n",
              "  .colab-df-quickchart {\n",
              "    background-color: var(--bg-color);\n",
              "    border: none;\n",
              "    border-radius: 50%;\n",
              "    cursor: pointer;\n",
              "    display: none;\n",
              "    fill: var(--fill-color);\n",
              "    height: 32px;\n",
              "    padding: 0;\n",
              "    width: 32px;\n",
              "  }\n",
              "\n",
              "  .colab-df-quickchart:hover {\n",
              "    background-color: var(--hover-bg-color);\n",
              "    box-shadow: 0 1px 2px rgba(60, 64, 67, 0.3), 0 1px 3px 1px rgba(60, 64, 67, 0.15);\n",
              "    fill: var(--button-hover-fill-color);\n",
              "  }\n",
              "\n",
              "  .colab-df-quickchart-complete:disabled,\n",
              "  .colab-df-quickchart-complete:disabled:hover {\n",
              "    background-color: var(--disabled-bg-color);\n",
              "    fill: var(--disabled-fill-color);\n",
              "    box-shadow: none;\n",
              "  }\n",
              "\n",
              "  .colab-df-spinner {\n",
              "    border: 2px solid var(--fill-color);\n",
              "    border-color: transparent;\n",
              "    border-bottom-color: var(--fill-color);\n",
              "    animation:\n",
              "      spin 1s steps(1) infinite;\n",
              "  }\n",
              "\n",
              "  @keyframes spin {\n",
              "    0% {\n",
              "      border-color: transparent;\n",
              "      border-bottom-color: var(--fill-color);\n",
              "      border-left-color: var(--fill-color);\n",
              "    }\n",
              "    20% {\n",
              "      border-color: transparent;\n",
              "      border-left-color: var(--fill-color);\n",
              "      border-top-color: var(--fill-color);\n",
              "    }\n",
              "    30% {\n",
              "      border-color: transparent;\n",
              "      border-left-color: var(--fill-color);\n",
              "      border-top-color: var(--fill-color);\n",
              "      border-right-color: var(--fill-color);\n",
              "    }\n",
              "    40% {\n",
              "      border-color: transparent;\n",
              "      border-right-color: var(--fill-color);\n",
              "      border-top-color: var(--fill-color);\n",
              "    }\n",
              "    60% {\n",
              "      border-color: transparent;\n",
              "      border-right-color: var(--fill-color);\n",
              "    }\n",
              "    80% {\n",
              "      border-color: transparent;\n",
              "      border-right-color: var(--fill-color);\n",
              "      border-bottom-color: var(--fill-color);\n",
              "    }\n",
              "    90% {\n",
              "      border-color: transparent;\n",
              "      border-bottom-color: var(--fill-color);\n",
              "    }\n",
              "  }\n",
              "</style>\n",
              "\n",
              "  <script>\n",
              "    async function quickchart(key) {\n",
              "      const quickchartButtonEl =\n",
              "        document.querySelector('#' + key + ' button');\n",
              "      quickchartButtonEl.disabled = true;  // To prevent multiple clicks.\n",
              "      quickchartButtonEl.classList.add('colab-df-spinner');\n",
              "      try {\n",
              "        const charts = await google.colab.kernel.invokeFunction(\n",
              "            'suggestCharts', [key], {});\n",
              "      } catch (error) {\n",
              "        console.error('Error during call to suggestCharts:', error);\n",
              "      }\n",
              "      quickchartButtonEl.classList.remove('colab-df-spinner');\n",
              "      quickchartButtonEl.classList.add('colab-df-quickchart-complete');\n",
              "    }\n",
              "    (() => {\n",
              "      let quickchartButtonEl =\n",
              "        document.querySelector('#df-df3015ec-cb0d-4742-96ca-b55dd3950412 button');\n",
              "      quickchartButtonEl.style.display =\n",
              "        google.colab.kernel.accessAllowed ? 'block' : 'none';\n",
              "    })();\n",
              "  </script>\n",
              "</div>\n",
              "\n",
              "    </div>\n",
              "  </div>\n"
            ],
            "application/vnd.google.colaboratory.intrinsic+json": {
              "type": "dataframe",
              "summary": "{\n  \"name\": \"hospital_data\",\n  \"rows\": 8,\n  \"fields\": [\n    {\n      \"column\": \"time_in_hospital\",\n      \"properties\": {\n        \"dtype\": \"number\",\n        \"std\": 8837.095442449054,\n        \"min\": 1.0,\n        \"max\": 25000.0,\n        \"num_unique_values\": 8,\n        \"samples\": [\n          4.45332,\n          4.0,\n          25000.0\n        ],\n        \"semantic_type\": \"\",\n        \"description\": \"\"\n      }\n    },\n    {\n      \"column\": \"n_lab_procedures\",\n      \"properties\": {\n        \"dtype\": \"number\",\n        \"std\": 8823.28589344585,\n        \"min\": 1.0,\n        \"max\": 25000.0,\n        \"num_unique_values\": 8,\n        \"samples\": [\n          43.24076,\n          44.0,\n          25000.0\n        ],\n        \"semantic_type\": \"\",\n        \"description\": \"\"\n      }\n    },\n    {\n      \"column\": \"n_procedures\",\n      \"properties\": {\n        \"dtype\": \"number\",\n        \"std\": 8838.225463832592,\n        \"min\": 0.0,\n        \"max\": 25000.0,\n        \"num_unique_values\": 7,\n        \"samples\": [\n          25000.0,\n          1.35236,\n          2.0\n        ],\n        \"semantic_type\": \"\",\n        \"description\": \"\"\n      }\n    },\n    {\n      \"column\": \"n_medications\",\n      \"properties\": {\n        \"dtype\": \"number\",\n        \"std\": 8831.2758910077,\n        \"min\": 1.0,\n        \"max\": 25000.0,\n        \"num_unique_values\": 8,\n        \"samples\": [\n          16.2524,\n          15.0,\n          25000.0\n        ],\n        \"semantic_type\": \"\",\n        \"description\": \"\"\n      }\n    },\n    {\n      \"column\": \"n_outpatient\",\n      \"properties\": {\n        \"dtype\": \"number\",\n        \"std\": 8837.096561888813,\n        \"min\": 0.0,\n        \"max\": 25000.0,\n        \"num_unique_values\": 5,\n        \"samples\": [\n          0.3664,\n          33.0,\n          1.1954782334815925\n        ],\n        \"semantic_type\": \"\",\n        \"description\": \"\"\n      }\n    },\n    {\n      \"column\": \"n_inpatient\",\n      \"properties\": {\n        \"dtype\": \"number\",\n        \"std\": 8837.93751185944,\n        \"min\": 0.0,\n        \"max\": 25000.0,\n        \"num_unique_values\": 6,\n        \"samples\": [\n          25000.0,\n          0.61596,\n          15.0\n        ],\n        \"semantic_type\": \"\",\n        \"description\": \"\"\n      }\n    },\n    {\n      \"column\": \"n_emergency\",\n      \"properties\": {\n        \"dtype\": \"number\",\n        \"std\": 8835.576337875367,\n        \"min\": 0.0,\n        \"max\": 25000.0,\n        \"num_unique_values\": 5,\n        \"samples\": [\n          0.1866,\n          64.0,\n          0.8858734846879858\n        ],\n        \"semantic_type\": \"\",\n        \"description\": \"\"\n      }\n    }\n  ]\n}"
            }
          },
          "metadata": {},
          "execution_count": 30
        }
      ]
    },
    {
      "cell_type": "code",
      "source": [
        "hospital_data.info()"
      ],
      "metadata": {
        "colab": {
          "base_uri": "https://localhost:8080/"
        },
        "id": "ZAWLYAHQMqg2",
        "outputId": "b2ee7a46-7468-4ef0-cac1-376f4162d5db"
      },
      "execution_count": null,
      "outputs": [
        {
          "output_type": "stream",
          "name": "stdout",
          "text": [
            "<class 'pandas.core.frame.DataFrame'>\n",
            "RangeIndex: 25000 entries, 0 to 24999\n",
            "Data columns (total 17 columns):\n",
            " #   Column             Non-Null Count  Dtype \n",
            "---  ------             --------------  ----- \n",
            " 0   age                25000 non-null  object\n",
            " 1   time_in_hospital   25000 non-null  int64 \n",
            " 2   n_lab_procedures   25000 non-null  int64 \n",
            " 3   n_procedures       25000 non-null  int64 \n",
            " 4   n_medications      25000 non-null  int64 \n",
            " 5   n_outpatient       25000 non-null  int64 \n",
            " 6   n_inpatient        25000 non-null  int64 \n",
            " 7   n_emergency        25000 non-null  int64 \n",
            " 8   medical_specialty  25000 non-null  object\n",
            " 9   diag_1             25000 non-null  object\n",
            " 10  diag_2             25000 non-null  object\n",
            " 11  diag_3             25000 non-null  object\n",
            " 12  glucose_test       25000 non-null  object\n",
            " 13  A1Ctest            25000 non-null  object\n",
            " 14  change             25000 non-null  object\n",
            " 15  diabetes_med       25000 non-null  object\n",
            " 16  readmitted         25000 non-null  object\n",
            "dtypes: int64(7), object(10)\n",
            "memory usage: 3.2+ MB\n"
          ]
        }
      ]
    },
    {
      "cell_type": "code",
      "source": [
        "hospital_data.isnull().sum()"
      ],
      "metadata": {
        "colab": {
          "base_uri": "https://localhost:8080/"
        },
        "id": "tZI3YKDRMqTN",
        "outputId": "8023e890-4126-4ca2-bde9-7f63bb97ac24"
      },
      "execution_count": null,
      "outputs": [
        {
          "output_type": "execute_result",
          "data": {
            "text/plain": [
              "age                  0\n",
              "time_in_hospital     0\n",
              "n_lab_procedures     0\n",
              "n_procedures         0\n",
              "n_medications        0\n",
              "n_outpatient         0\n",
              "n_inpatient          0\n",
              "n_emergency          0\n",
              "medical_specialty    0\n",
              "diag_1               0\n",
              "diag_2               0\n",
              "diag_3               0\n",
              "glucose_test         0\n",
              "A1Ctest              0\n",
              "change               0\n",
              "diabetes_med         0\n",
              "readmitted           0\n",
              "dtype: int64"
            ]
          },
          "metadata": {},
          "execution_count": 32
        }
      ]
    },
    {
      "cell_type": "markdown",
      "source": [
        "**There is no null values in the dataset so no need data imputation.**"
      ],
      "metadata": {
        "id": "sgbSx8kONHtG"
      }
    },
    {
      "cell_type": "markdown",
      "source": [
        "### Encoding Categorical Data"
      ],
      "metadata": {
        "id": "D3zSWp7nNfMq"
      }
    },
    {
      "cell_type": "code",
      "source": [
        "categorical_features = hospital_data.select_dtypes('object').columns"
      ],
      "metadata": {
        "id": "ZkWCrgAJNeeH"
      },
      "execution_count": null,
      "outputs": []
    },
    {
      "cell_type": "code",
      "source": [
        "numerical_features = hospital_data.select_dtypes(['int64', 'float64']).columns"
      ],
      "metadata": {
        "id": "Uq_3C0OIMqGS"
      },
      "execution_count": null,
      "outputs": []
    },
    {
      "cell_type": "code",
      "source": [
        "encoder = LabelEncoder()\n",
        "\n",
        "for category in categorical_features:\n",
        "    hospital_data[category] = encoder.fit_transform(hospital_data[category])"
      ],
      "metadata": {
        "id": "K1G8VybnMp2s"
      },
      "execution_count": null,
      "outputs": []
    },
    {
      "cell_type": "markdown",
      "source": [
        "### Standarization Numerical Features"
      ],
      "metadata": {
        "id": "ek6qh9pdNziX"
      }
    },
    {
      "cell_type": "code",
      "source": [
        "# Applying standardization\n",
        "scaler = StandardScaler()\n",
        "\n",
        "for feature in numerical_features:\n",
        "    hospital_data[feature] = scaler.fit_transform(hospital_data[[feature]])"
      ],
      "metadata": {
        "id": "ukDwDq_PMpnb"
      },
      "execution_count": null,
      "outputs": []
    },
    {
      "cell_type": "markdown",
      "source": [
        "### Model Training"
      ],
      "metadata": {
        "id": "DpS-z6rfOGyF"
      }
    },
    {
      "cell_type": "code",
      "source": [
        "# Separating features and target variable\n",
        "X = hospital_data.drop('readmitted', axis=1)\n",
        "y = hospital_data['readmitted']\n",
        "\n",
        "# Splitting the dataset into train and test data in 80/20 ratio\n",
        "X_train, X_test, y_train, y_test = train_test_split(X, y, test_size=0.2, random_state=42)"
      ],
      "metadata": {
        "id": "aGqxvBRfOGoU"
      },
      "execution_count": null,
      "outputs": []
    },
    {
      "cell_type": "code",
      "source": [
        "# Implementing the model\n",
        "lr_model = LogisticRegression()\n",
        "lr_model.fit(X_train, y_train)"
      ],
      "metadata": {
        "colab": {
          "base_uri": "https://localhost:8080/",
          "height": 74
        },
        "id": "0HdGL3BCOGfX",
        "outputId": "e647f469-1164-403f-c0d4-49bbcde87513"
      },
      "execution_count": null,
      "outputs": [
        {
          "output_type": "execute_result",
          "data": {
            "text/plain": [
              "LogisticRegression()"
            ],
            "text/html": [
              "<style>#sk-container-id-3 {color: black;}#sk-container-id-3 pre{padding: 0;}#sk-container-id-3 div.sk-toggleable {background-color: white;}#sk-container-id-3 label.sk-toggleable__label {cursor: pointer;display: block;width: 100%;margin-bottom: 0;padding: 0.3em;box-sizing: border-box;text-align: center;}#sk-container-id-3 label.sk-toggleable__label-arrow:before {content: \"▸\";float: left;margin-right: 0.25em;color: #696969;}#sk-container-id-3 label.sk-toggleable__label-arrow:hover:before {color: black;}#sk-container-id-3 div.sk-estimator:hover label.sk-toggleable__label-arrow:before {color: black;}#sk-container-id-3 div.sk-toggleable__content {max-height: 0;max-width: 0;overflow: hidden;text-align: left;background-color: #f0f8ff;}#sk-container-id-3 div.sk-toggleable__content pre {margin: 0.2em;color: black;border-radius: 0.25em;background-color: #f0f8ff;}#sk-container-id-3 input.sk-toggleable__control:checked~div.sk-toggleable__content {max-height: 200px;max-width: 100%;overflow: auto;}#sk-container-id-3 input.sk-toggleable__control:checked~label.sk-toggleable__label-arrow:before {content: \"▾\";}#sk-container-id-3 div.sk-estimator input.sk-toggleable__control:checked~label.sk-toggleable__label {background-color: #d4ebff;}#sk-container-id-3 div.sk-label input.sk-toggleable__control:checked~label.sk-toggleable__label {background-color: #d4ebff;}#sk-container-id-3 input.sk-hidden--visually {border: 0;clip: rect(1px 1px 1px 1px);clip: rect(1px, 1px, 1px, 1px);height: 1px;margin: -1px;overflow: hidden;padding: 0;position: absolute;width: 1px;}#sk-container-id-3 div.sk-estimator {font-family: monospace;background-color: #f0f8ff;border: 1px dotted black;border-radius: 0.25em;box-sizing: border-box;margin-bottom: 0.5em;}#sk-container-id-3 div.sk-estimator:hover {background-color: #d4ebff;}#sk-container-id-3 div.sk-parallel-item::after {content: \"\";width: 100%;border-bottom: 1px solid gray;flex-grow: 1;}#sk-container-id-3 div.sk-label:hover label.sk-toggleable__label {background-color: #d4ebff;}#sk-container-id-3 div.sk-serial::before {content: \"\";position: absolute;border-left: 1px solid gray;box-sizing: border-box;top: 0;bottom: 0;left: 50%;z-index: 0;}#sk-container-id-3 div.sk-serial {display: flex;flex-direction: column;align-items: center;background-color: white;padding-right: 0.2em;padding-left: 0.2em;position: relative;}#sk-container-id-3 div.sk-item {position: relative;z-index: 1;}#sk-container-id-3 div.sk-parallel {display: flex;align-items: stretch;justify-content: center;background-color: white;position: relative;}#sk-container-id-3 div.sk-item::before, #sk-container-id-3 div.sk-parallel-item::before {content: \"\";position: absolute;border-left: 1px solid gray;box-sizing: border-box;top: 0;bottom: 0;left: 50%;z-index: -1;}#sk-container-id-3 div.sk-parallel-item {display: flex;flex-direction: column;z-index: 1;position: relative;background-color: white;}#sk-container-id-3 div.sk-parallel-item:first-child::after {align-self: flex-end;width: 50%;}#sk-container-id-3 div.sk-parallel-item:last-child::after {align-self: flex-start;width: 50%;}#sk-container-id-3 div.sk-parallel-item:only-child::after {width: 0;}#sk-container-id-3 div.sk-dashed-wrapped {border: 1px dashed gray;margin: 0 0.4em 0.5em 0.4em;box-sizing: border-box;padding-bottom: 0.4em;background-color: white;}#sk-container-id-3 div.sk-label label {font-family: monospace;font-weight: bold;display: inline-block;line-height: 1.2em;}#sk-container-id-3 div.sk-label-container {text-align: center;}#sk-container-id-3 div.sk-container {/* jupyter's `normalize.less` sets `[hidden] { display: none; }` but bootstrap.min.css set `[hidden] { display: none !important; }` so we also need the `!important` here to be able to override the default hidden behavior on the sphinx rendered scikit-learn.org. See: https://github.com/scikit-learn/scikit-learn/issues/21755 */display: inline-block !important;position: relative;}#sk-container-id-3 div.sk-text-repr-fallback {display: none;}</style><div id=\"sk-container-id-3\" class=\"sk-top-container\"><div class=\"sk-text-repr-fallback\"><pre>LogisticRegression()</pre><b>In a Jupyter environment, please rerun this cell to show the HTML representation or trust the notebook. <br />On GitHub, the HTML representation is unable to render, please try loading this page with nbviewer.org.</b></div><div class=\"sk-container\" hidden><div class=\"sk-item\"><div class=\"sk-estimator sk-toggleable\"><input class=\"sk-toggleable__control sk-hidden--visually\" id=\"sk-estimator-id-3\" type=\"checkbox\" checked><label for=\"sk-estimator-id-3\" class=\"sk-toggleable__label sk-toggleable__label-arrow\">LogisticRegression</label><div class=\"sk-toggleable__content\"><pre>LogisticRegression()</pre></div></div></div></div></div>"
            ]
          },
          "metadata": {},
          "execution_count": 40
        }
      ]
    },
    {
      "cell_type": "code",
      "source": [
        "# Predicting the target variable\n",
        "Y_pred = lr_model.predict(X_test)"
      ],
      "metadata": {
        "id": "AnJYJ855OGWM"
      },
      "execution_count": null,
      "outputs": []
    },
    {
      "cell_type": "markdown",
      "source": [
        "### Model Evaluation"
      ],
      "metadata": {
        "id": "6juHKYXMOuQi"
      }
    },
    {
      "cell_type": "code",
      "source": [
        "# Printing the classification report of the model\n",
        "\n",
        "from sklearn.metrics import classification_report\n",
        "print('Classification Report:\\n\\n', classification_report(y_test, Y_pred))"
      ],
      "metadata": {
        "colab": {
          "base_uri": "https://localhost:8080/"
        },
        "id": "UOgnYbDHOGMh",
        "outputId": "68ab1561-0a39-450f-e850-1a236e6c1b36"
      },
      "execution_count": null,
      "outputs": [
        {
          "output_type": "stream",
          "name": "stdout",
          "text": [
            "Classification Report:\n",
            "\n",
            "               precision    recall  f1-score   support\n",
            "\n",
            "           0       0.60      0.79      0.68      2658\n",
            "           1       0.63      0.41      0.49      2342\n",
            "\n",
            "    accuracy                           0.61      5000\n",
            "   macro avg       0.61      0.60      0.59      5000\n",
            "weighted avg       0.61      0.61      0.59      5000\n",
            "\n"
          ]
        }
      ]
    },
    {
      "cell_type": "code",
      "source": [],
      "metadata": {
        "id": "5oi8iLI2OGDN"
      },
      "execution_count": null,
      "outputs": []
    },
    {
      "cell_type": "code",
      "source": [],
      "metadata": {
        "id": "cMFhJiLTOF2o"
      },
      "execution_count": null,
      "outputs": []
    },
    {
      "cell_type": "code",
      "source": [],
      "metadata": {
        "id": "PTlwqwwUzCZ4"
      },
      "execution_count": null,
      "outputs": []
    },
    {
      "cell_type": "markdown",
      "source": [
        "# Classifying Digit Images Using Decision Trees"
      ],
      "metadata": {
        "id": "uS0NcGejQUzF"
      }
    },
    {
      "cell_type": "markdown",
      "source": [
        "Classifying Digit Images Using Decision Trees\n",
        "    \n",
        "    Dataset:\n",
        "  MNIST Dataset\n",
        "    \n",
        "    Preprocessing Steps:\n",
        "Normalize pixel values.\n",
        "\n",
        "Reshape data as needed for model input.\n",
        "    \n",
        "    Task: 3\n",
        "Implement a decision tree classifier to classify handwritten digits and evaluate the model using accuracy and confusion matrix.\n"
      ],
      "metadata": {
        "id": "EtF_xQNNzDTD"
      }
    },
    {
      "cell_type": "code",
      "source": [],
      "metadata": {
        "id": "T0EpgU7BzW_A"
      },
      "execution_count": null,
      "outputs": []
    },
    {
      "cell_type": "code",
      "source": [],
      "metadata": {
        "id": "L12NJcenzXvZ"
      },
      "execution_count": null,
      "outputs": []
    },
    {
      "cell_type": "code",
      "source": [],
      "metadata": {
        "id": "rRrLFv6ozXob"
      },
      "execution_count": null,
      "outputs": []
    },
    {
      "cell_type": "code",
      "source": [],
      "metadata": {
        "id": "HhIQYh9IzXfh"
      },
      "execution_count": null,
      "outputs": []
    },
    {
      "cell_type": "markdown",
      "source": [
        "# Predicting Loan Approval Using Logistic Regression"
      ],
      "metadata": {
        "id": "lL5KQoAJQSPb"
      }
    },
    {
      "cell_type": "markdown",
      "source": [
        "Predicting Loan Approval Using Logistic Regression\n",
        "\n",
        "    Dataset:\n",
        "Loan Prediction Dataset\n",
        "\n",
        "    Preprocessing Steps:\n",
        "Handle missing values (e.g., fill missing values with mode for categorical variables).\n",
        "\n",
        "Encode categorical variables (e.g., one-hot encoding for gender, married status, etc.).\n",
        "\n",
        "Standardize numerical features.\n",
        "\n",
        "    Task: 4\n",
        "Implement logistic regression to predict loan approval and evaluate the model using accuracy and confusion matrix.\n"
      ],
      "metadata": {
        "id": "Qel1zGFwzYV_"
      }
    },
    {
      "cell_type": "markdown",
      "source": [
        "### Zip file unzip"
      ],
      "metadata": {
        "id": "Pby2N_V3MJ1W"
      }
    },
    {
      "cell_type": "code",
      "source": [
        "import zipfile\n",
        "\n",
        "# Specify the path to your zip file in Google Drive\n",
        "zip_file_path = '/content/drive/MyDrive/Datasets /BWF_Week6_Datasets/loan dataset.zip'\n",
        "\n",
        "# Specify the directory where you want to extract the files\n",
        "extract_path = '/content/drive/MyDrive/Datasets /BWF_Week6_Datasets/'\n",
        "\n",
        "# Open the zip file\n",
        "with zipfile.ZipFile(zip_file_path, 'r') as zip_ref:\n",
        "  # Extract all files to the specified directory\n",
        "  zip_ref.extractall(extract_path)"
      ],
      "metadata": {
        "id": "I0hls3lOLIzc"
      },
      "execution_count": 32,
      "outputs": []
    },
    {
      "cell_type": "code",
      "source": [
        "# Now you can read the CSV file\n",
        "csv_file_path = '/content/drive/MyDrive/Datasets /BWF_Week6_Datasets/Loan.csv'  # Replace with the actual CSV file name\n",
        "loan_df = pd.read_csv(csv_file_path)\n",
        "\n",
        "# Print the first few rows of the DataFrame\n",
        "loan_df.head()\n"
      ],
      "metadata": {
        "id": "pC6TBMuzzkA7",
        "colab": {
          "base_uri": "https://localhost:8080/",
          "height": 243
        },
        "outputId": "ad6c4f70-68ad-4cd4-e094-8b79e6321354"
      },
      "execution_count": 44,
      "outputs": [
        {
          "output_type": "execute_result",
          "data": {
            "text/plain": [
              "    Loan_ID Gender Married Dependents     Education Self_Employed  \\\n",
              "0  LP001002   Male      No          0      Graduate            No   \n",
              "1  LP001003   Male     Yes          1      Graduate            No   \n",
              "2  LP001005   Male     Yes          0      Graduate           Yes   \n",
              "3  LP001006   Male     Yes          0  Not Graduate            No   \n",
              "4  LP001008   Male      No          0      Graduate            No   \n",
              "\n",
              "   ApplicantIncome  CoapplicantIncome  LoanAmount  Loan_Amount_Term  \\\n",
              "0             5849                0.0         NaN             360.0   \n",
              "1             4583             1508.0       128.0             360.0   \n",
              "2             3000                0.0        66.0             360.0   \n",
              "3             2583             2358.0       120.0             360.0   \n",
              "4             6000                0.0       141.0             360.0   \n",
              "\n",
              "   Credit_History Property_Area Loan_Status  \n",
              "0             1.0         Urban           Y  \n",
              "1             1.0         Rural           N  \n",
              "2             1.0         Urban           Y  \n",
              "3             1.0         Urban           Y  \n",
              "4             1.0         Urban           Y  "
            ],
            "text/html": [
              "\n",
              "  <div id=\"df-f88a4a43-b58b-4080-8ed7-3854b6338ed0\" class=\"colab-df-container\">\n",
              "    <div>\n",
              "<style scoped>\n",
              "    .dataframe tbody tr th:only-of-type {\n",
              "        vertical-align: middle;\n",
              "    }\n",
              "\n",
              "    .dataframe tbody tr th {\n",
              "        vertical-align: top;\n",
              "    }\n",
              "\n",
              "    .dataframe thead th {\n",
              "        text-align: right;\n",
              "    }\n",
              "</style>\n",
              "<table border=\"1\" class=\"dataframe\">\n",
              "  <thead>\n",
              "    <tr style=\"text-align: right;\">\n",
              "      <th></th>\n",
              "      <th>Loan_ID</th>\n",
              "      <th>Gender</th>\n",
              "      <th>Married</th>\n",
              "      <th>Dependents</th>\n",
              "      <th>Education</th>\n",
              "      <th>Self_Employed</th>\n",
              "      <th>ApplicantIncome</th>\n",
              "      <th>CoapplicantIncome</th>\n",
              "      <th>LoanAmount</th>\n",
              "      <th>Loan_Amount_Term</th>\n",
              "      <th>Credit_History</th>\n",
              "      <th>Property_Area</th>\n",
              "      <th>Loan_Status</th>\n",
              "    </tr>\n",
              "  </thead>\n",
              "  <tbody>\n",
              "    <tr>\n",
              "      <th>0</th>\n",
              "      <td>LP001002</td>\n",
              "      <td>Male</td>\n",
              "      <td>No</td>\n",
              "      <td>0</td>\n",
              "      <td>Graduate</td>\n",
              "      <td>No</td>\n",
              "      <td>5849</td>\n",
              "      <td>0.0</td>\n",
              "      <td>NaN</td>\n",
              "      <td>360.0</td>\n",
              "      <td>1.0</td>\n",
              "      <td>Urban</td>\n",
              "      <td>Y</td>\n",
              "    </tr>\n",
              "    <tr>\n",
              "      <th>1</th>\n",
              "      <td>LP001003</td>\n",
              "      <td>Male</td>\n",
              "      <td>Yes</td>\n",
              "      <td>1</td>\n",
              "      <td>Graduate</td>\n",
              "      <td>No</td>\n",
              "      <td>4583</td>\n",
              "      <td>1508.0</td>\n",
              "      <td>128.0</td>\n",
              "      <td>360.0</td>\n",
              "      <td>1.0</td>\n",
              "      <td>Rural</td>\n",
              "      <td>N</td>\n",
              "    </tr>\n",
              "    <tr>\n",
              "      <th>2</th>\n",
              "      <td>LP001005</td>\n",
              "      <td>Male</td>\n",
              "      <td>Yes</td>\n",
              "      <td>0</td>\n",
              "      <td>Graduate</td>\n",
              "      <td>Yes</td>\n",
              "      <td>3000</td>\n",
              "      <td>0.0</td>\n",
              "      <td>66.0</td>\n",
              "      <td>360.0</td>\n",
              "      <td>1.0</td>\n",
              "      <td>Urban</td>\n",
              "      <td>Y</td>\n",
              "    </tr>\n",
              "    <tr>\n",
              "      <th>3</th>\n",
              "      <td>LP001006</td>\n",
              "      <td>Male</td>\n",
              "      <td>Yes</td>\n",
              "      <td>0</td>\n",
              "      <td>Not Graduate</td>\n",
              "      <td>No</td>\n",
              "      <td>2583</td>\n",
              "      <td>2358.0</td>\n",
              "      <td>120.0</td>\n",
              "      <td>360.0</td>\n",
              "      <td>1.0</td>\n",
              "      <td>Urban</td>\n",
              "      <td>Y</td>\n",
              "    </tr>\n",
              "    <tr>\n",
              "      <th>4</th>\n",
              "      <td>LP001008</td>\n",
              "      <td>Male</td>\n",
              "      <td>No</td>\n",
              "      <td>0</td>\n",
              "      <td>Graduate</td>\n",
              "      <td>No</td>\n",
              "      <td>6000</td>\n",
              "      <td>0.0</td>\n",
              "      <td>141.0</td>\n",
              "      <td>360.0</td>\n",
              "      <td>1.0</td>\n",
              "      <td>Urban</td>\n",
              "      <td>Y</td>\n",
              "    </tr>\n",
              "  </tbody>\n",
              "</table>\n",
              "</div>\n",
              "    <div class=\"colab-df-buttons\">\n",
              "\n",
              "  <div class=\"colab-df-container\">\n",
              "    <button class=\"colab-df-convert\" onclick=\"convertToInteractive('df-f88a4a43-b58b-4080-8ed7-3854b6338ed0')\"\n",
              "            title=\"Convert this dataframe to an interactive table.\"\n",
              "            style=\"display:none;\">\n",
              "\n",
              "  <svg xmlns=\"http://www.w3.org/2000/svg\" height=\"24px\" viewBox=\"0 -960 960 960\">\n",
              "    <path d=\"M120-120v-720h720v720H120Zm60-500h600v-160H180v160Zm220 220h160v-160H400v160Zm0 220h160v-160H400v160ZM180-400h160v-160H180v160Zm440 0h160v-160H620v160ZM180-180h160v-160H180v160Zm440 0h160v-160H620v160Z\"/>\n",
              "  </svg>\n",
              "    </button>\n",
              "\n",
              "  <style>\n",
              "    .colab-df-container {\n",
              "      display:flex;\n",
              "      gap: 12px;\n",
              "    }\n",
              "\n",
              "    .colab-df-convert {\n",
              "      background-color: #E8F0FE;\n",
              "      border: none;\n",
              "      border-radius: 50%;\n",
              "      cursor: pointer;\n",
              "      display: none;\n",
              "      fill: #1967D2;\n",
              "      height: 32px;\n",
              "      padding: 0 0 0 0;\n",
              "      width: 32px;\n",
              "    }\n",
              "\n",
              "    .colab-df-convert:hover {\n",
              "      background-color: #E2EBFA;\n",
              "      box-shadow: 0px 1px 2px rgba(60, 64, 67, 0.3), 0px 1px 3px 1px rgba(60, 64, 67, 0.15);\n",
              "      fill: #174EA6;\n",
              "    }\n",
              "\n",
              "    .colab-df-buttons div {\n",
              "      margin-bottom: 4px;\n",
              "    }\n",
              "\n",
              "    [theme=dark] .colab-df-convert {\n",
              "      background-color: #3B4455;\n",
              "      fill: #D2E3FC;\n",
              "    }\n",
              "\n",
              "    [theme=dark] .colab-df-convert:hover {\n",
              "      background-color: #434B5C;\n",
              "      box-shadow: 0px 1px 3px 1px rgba(0, 0, 0, 0.15);\n",
              "      filter: drop-shadow(0px 1px 2px rgba(0, 0, 0, 0.3));\n",
              "      fill: #FFFFFF;\n",
              "    }\n",
              "  </style>\n",
              "\n",
              "    <script>\n",
              "      const buttonEl =\n",
              "        document.querySelector('#df-f88a4a43-b58b-4080-8ed7-3854b6338ed0 button.colab-df-convert');\n",
              "      buttonEl.style.display =\n",
              "        google.colab.kernel.accessAllowed ? 'block' : 'none';\n",
              "\n",
              "      async function convertToInteractive(key) {\n",
              "        const element = document.querySelector('#df-f88a4a43-b58b-4080-8ed7-3854b6338ed0');\n",
              "        const dataTable =\n",
              "          await google.colab.kernel.invokeFunction('convertToInteractive',\n",
              "                                                    [key], {});\n",
              "        if (!dataTable) return;\n",
              "\n",
              "        const docLinkHtml = 'Like what you see? Visit the ' +\n",
              "          '<a target=\"_blank\" href=https://colab.research.google.com/notebooks/data_table.ipynb>data table notebook</a>'\n",
              "          + ' to learn more about interactive tables.';\n",
              "        element.innerHTML = '';\n",
              "        dataTable['output_type'] = 'display_data';\n",
              "        await google.colab.output.renderOutput(dataTable, element);\n",
              "        const docLink = document.createElement('div');\n",
              "        docLink.innerHTML = docLinkHtml;\n",
              "        element.appendChild(docLink);\n",
              "      }\n",
              "    </script>\n",
              "  </div>\n",
              "\n",
              "\n",
              "<div id=\"df-bc356a0f-52b8-404e-a03e-88f0b7eebf5e\">\n",
              "  <button class=\"colab-df-quickchart\" onclick=\"quickchart('df-bc356a0f-52b8-404e-a03e-88f0b7eebf5e')\"\n",
              "            title=\"Suggest charts\"\n",
              "            style=\"display:none;\">\n",
              "\n",
              "<svg xmlns=\"http://www.w3.org/2000/svg\" height=\"24px\"viewBox=\"0 0 24 24\"\n",
              "     width=\"24px\">\n",
              "    <g>\n",
              "        <path d=\"M19 3H5c-1.1 0-2 .9-2 2v14c0 1.1.9 2 2 2h14c1.1 0 2-.9 2-2V5c0-1.1-.9-2-2-2zM9 17H7v-7h2v7zm4 0h-2V7h2v10zm4 0h-2v-4h2v4z\"/>\n",
              "    </g>\n",
              "</svg>\n",
              "  </button>\n",
              "\n",
              "<style>\n",
              "  .colab-df-quickchart {\n",
              "      --bg-color: #E8F0FE;\n",
              "      --fill-color: #1967D2;\n",
              "      --hover-bg-color: #E2EBFA;\n",
              "      --hover-fill-color: #174EA6;\n",
              "      --disabled-fill-color: #AAA;\n",
              "      --disabled-bg-color: #DDD;\n",
              "  }\n",
              "\n",
              "  [theme=dark] .colab-df-quickchart {\n",
              "      --bg-color: #3B4455;\n",
              "      --fill-color: #D2E3FC;\n",
              "      --hover-bg-color: #434B5C;\n",
              "      --hover-fill-color: #FFFFFF;\n",
              "      --disabled-bg-color: #3B4455;\n",
              "      --disabled-fill-color: #666;\n",
              "  }\n",
              "\n",
              "  .colab-df-quickchart {\n",
              "    background-color: var(--bg-color);\n",
              "    border: none;\n",
              "    border-radius: 50%;\n",
              "    cursor: pointer;\n",
              "    display: none;\n",
              "    fill: var(--fill-color);\n",
              "    height: 32px;\n",
              "    padding: 0;\n",
              "    width: 32px;\n",
              "  }\n",
              "\n",
              "  .colab-df-quickchart:hover {\n",
              "    background-color: var(--hover-bg-color);\n",
              "    box-shadow: 0 1px 2px rgba(60, 64, 67, 0.3), 0 1px 3px 1px rgba(60, 64, 67, 0.15);\n",
              "    fill: var(--button-hover-fill-color);\n",
              "  }\n",
              "\n",
              "  .colab-df-quickchart-complete:disabled,\n",
              "  .colab-df-quickchart-complete:disabled:hover {\n",
              "    background-color: var(--disabled-bg-color);\n",
              "    fill: var(--disabled-fill-color);\n",
              "    box-shadow: none;\n",
              "  }\n",
              "\n",
              "  .colab-df-spinner {\n",
              "    border: 2px solid var(--fill-color);\n",
              "    border-color: transparent;\n",
              "    border-bottom-color: var(--fill-color);\n",
              "    animation:\n",
              "      spin 1s steps(1) infinite;\n",
              "  }\n",
              "\n",
              "  @keyframes spin {\n",
              "    0% {\n",
              "      border-color: transparent;\n",
              "      border-bottom-color: var(--fill-color);\n",
              "      border-left-color: var(--fill-color);\n",
              "    }\n",
              "    20% {\n",
              "      border-color: transparent;\n",
              "      border-left-color: var(--fill-color);\n",
              "      border-top-color: var(--fill-color);\n",
              "    }\n",
              "    30% {\n",
              "      border-color: transparent;\n",
              "      border-left-color: var(--fill-color);\n",
              "      border-top-color: var(--fill-color);\n",
              "      border-right-color: var(--fill-color);\n",
              "    }\n",
              "    40% {\n",
              "      border-color: transparent;\n",
              "      border-right-color: var(--fill-color);\n",
              "      border-top-color: var(--fill-color);\n",
              "    }\n",
              "    60% {\n",
              "      border-color: transparent;\n",
              "      border-right-color: var(--fill-color);\n",
              "    }\n",
              "    80% {\n",
              "      border-color: transparent;\n",
              "      border-right-color: var(--fill-color);\n",
              "      border-bottom-color: var(--fill-color);\n",
              "    }\n",
              "    90% {\n",
              "      border-color: transparent;\n",
              "      border-bottom-color: var(--fill-color);\n",
              "    }\n",
              "  }\n",
              "</style>\n",
              "\n",
              "  <script>\n",
              "    async function quickchart(key) {\n",
              "      const quickchartButtonEl =\n",
              "        document.querySelector('#' + key + ' button');\n",
              "      quickchartButtonEl.disabled = true;  // To prevent multiple clicks.\n",
              "      quickchartButtonEl.classList.add('colab-df-spinner');\n",
              "      try {\n",
              "        const charts = await google.colab.kernel.invokeFunction(\n",
              "            'suggestCharts', [key], {});\n",
              "      } catch (error) {\n",
              "        console.error('Error during call to suggestCharts:', error);\n",
              "      }\n",
              "      quickchartButtonEl.classList.remove('colab-df-spinner');\n",
              "      quickchartButtonEl.classList.add('colab-df-quickchart-complete');\n",
              "    }\n",
              "    (() => {\n",
              "      let quickchartButtonEl =\n",
              "        document.querySelector('#df-bc356a0f-52b8-404e-a03e-88f0b7eebf5e button');\n",
              "      quickchartButtonEl.style.display =\n",
              "        google.colab.kernel.accessAllowed ? 'block' : 'none';\n",
              "    })();\n",
              "  </script>\n",
              "</div>\n",
              "\n",
              "    </div>\n",
              "  </div>\n"
            ],
            "application/vnd.google.colaboratory.intrinsic+json": {
              "type": "dataframe",
              "variable_name": "loan_df",
              "summary": "{\n  \"name\": \"loan_df\",\n  \"rows\": 614,\n  \"fields\": [\n    {\n      \"column\": \"Loan_ID\",\n      \"properties\": {\n        \"dtype\": \"string\",\n        \"num_unique_values\": 614,\n        \"samples\": [\n          \"LP002139\",\n          \"LP002223\",\n          \"LP001570\"\n        ],\n        \"semantic_type\": \"\",\n        \"description\": \"\"\n      }\n    },\n    {\n      \"column\": \"Gender\",\n      \"properties\": {\n        \"dtype\": \"category\",\n        \"num_unique_values\": 2,\n        \"samples\": [\n          \"Female\",\n          \"Male\"\n        ],\n        \"semantic_type\": \"\",\n        \"description\": \"\"\n      }\n    },\n    {\n      \"column\": \"Married\",\n      \"properties\": {\n        \"dtype\": \"category\",\n        \"num_unique_values\": 2,\n        \"samples\": [\n          \"Yes\",\n          \"No\"\n        ],\n        \"semantic_type\": \"\",\n        \"description\": \"\"\n      }\n    },\n    {\n      \"column\": \"Dependents\",\n      \"properties\": {\n        \"dtype\": \"category\",\n        \"num_unique_values\": 4,\n        \"samples\": [\n          \"1\",\n          \"3+\"\n        ],\n        \"semantic_type\": \"\",\n        \"description\": \"\"\n      }\n    },\n    {\n      \"column\": \"Education\",\n      \"properties\": {\n        \"dtype\": \"category\",\n        \"num_unique_values\": 2,\n        \"samples\": [\n          \"Not Graduate\",\n          \"Graduate\"\n        ],\n        \"semantic_type\": \"\",\n        \"description\": \"\"\n      }\n    },\n    {\n      \"column\": \"Self_Employed\",\n      \"properties\": {\n        \"dtype\": \"category\",\n        \"num_unique_values\": 2,\n        \"samples\": [\n          \"Yes\",\n          \"No\"\n        ],\n        \"semantic_type\": \"\",\n        \"description\": \"\"\n      }\n    },\n    {\n      \"column\": \"ApplicantIncome\",\n      \"properties\": {\n        \"dtype\": \"number\",\n        \"std\": 6109,\n        \"min\": 150,\n        \"max\": 81000,\n        \"num_unique_values\": 505,\n        \"samples\": [\n          8333,\n          4342\n        ],\n        \"semantic_type\": \"\",\n        \"description\": \"\"\n      }\n    },\n    {\n      \"column\": \"CoapplicantIncome\",\n      \"properties\": {\n        \"dtype\": \"number\",\n        \"std\": 2926.2483692241885,\n        \"min\": 0.0,\n        \"max\": 41667.0,\n        \"num_unique_values\": 287,\n        \"samples\": [\n          1840.0,\n          2042.0\n        ],\n        \"semantic_type\": \"\",\n        \"description\": \"\"\n      }\n    },\n    {\n      \"column\": \"LoanAmount\",\n      \"properties\": {\n        \"dtype\": \"number\",\n        \"std\": 85.58732523570545,\n        \"min\": 9.0,\n        \"max\": 700.0,\n        \"num_unique_values\": 203,\n        \"samples\": [\n          100.0,\n          70.0\n        ],\n        \"semantic_type\": \"\",\n        \"description\": \"\"\n      }\n    },\n    {\n      \"column\": \"Loan_Amount_Term\",\n      \"properties\": {\n        \"dtype\": \"number\",\n        \"std\": 65.12040985461256,\n        \"min\": 12.0,\n        \"max\": 480.0,\n        \"num_unique_values\": 10,\n        \"samples\": [\n          84.0,\n          120.0\n        ],\n        \"semantic_type\": \"\",\n        \"description\": \"\"\n      }\n    },\n    {\n      \"column\": \"Credit_History\",\n      \"properties\": {\n        \"dtype\": \"number\",\n        \"std\": 0.3648783192364048,\n        \"min\": 0.0,\n        \"max\": 1.0,\n        \"num_unique_values\": 2,\n        \"samples\": [\n          0.0,\n          1.0\n        ],\n        \"semantic_type\": \"\",\n        \"description\": \"\"\n      }\n    },\n    {\n      \"column\": \"Property_Area\",\n      \"properties\": {\n        \"dtype\": \"category\",\n        \"num_unique_values\": 3,\n        \"samples\": [\n          \"Urban\",\n          \"Rural\"\n        ],\n        \"semantic_type\": \"\",\n        \"description\": \"\"\n      }\n    },\n    {\n      \"column\": \"Loan_Status\",\n      \"properties\": {\n        \"dtype\": \"category\",\n        \"num_unique_values\": 2,\n        \"samples\": [\n          \"N\",\n          \"Y\"\n        ],\n        \"semantic_type\": \"\",\n        \"description\": \"\"\n      }\n    }\n  ]\n}"
            }
          },
          "metadata": {},
          "execution_count": 44
        }
      ]
    },
    {
      "cell_type": "code",
      "source": [
        "loan_df.shape"
      ],
      "metadata": {
        "id": "pFVHZUiizlDn",
        "colab": {
          "base_uri": "https://localhost:8080/"
        },
        "outputId": "1a8e5d89-e7a5-4791-d357-f10871812c22"
      },
      "execution_count": 45,
      "outputs": [
        {
          "output_type": "execute_result",
          "data": {
            "text/plain": [
              "(614, 13)"
            ]
          },
          "metadata": {},
          "execution_count": 45
        }
      ]
    },
    {
      "cell_type": "code",
      "source": [
        "loan_df.info()"
      ],
      "metadata": {
        "id": "cwKYVEgNzk6t",
        "colab": {
          "base_uri": "https://localhost:8080/"
        },
        "outputId": "011f7574-a613-4be5-e37e-7965cf8b2da0"
      },
      "execution_count": 46,
      "outputs": [
        {
          "output_type": "stream",
          "name": "stdout",
          "text": [
            "<class 'pandas.core.frame.DataFrame'>\n",
            "RangeIndex: 614 entries, 0 to 613\n",
            "Data columns (total 13 columns):\n",
            " #   Column             Non-Null Count  Dtype  \n",
            "---  ------             --------------  -----  \n",
            " 0   Loan_ID            614 non-null    object \n",
            " 1   Gender             601 non-null    object \n",
            " 2   Married            611 non-null    object \n",
            " 3   Dependents         599 non-null    object \n",
            " 4   Education          614 non-null    object \n",
            " 5   Self_Employed      582 non-null    object \n",
            " 6   ApplicantIncome    614 non-null    int64  \n",
            " 7   CoapplicantIncome  614 non-null    float64\n",
            " 8   LoanAmount         592 non-null    float64\n",
            " 9   Loan_Amount_Term   600 non-null    float64\n",
            " 10  Credit_History     564 non-null    float64\n",
            " 11  Property_Area      614 non-null    object \n",
            " 12  Loan_Status        614 non-null    object \n",
            "dtypes: float64(4), int64(1), object(8)\n",
            "memory usage: 62.5+ KB\n"
          ]
        }
      ]
    },
    {
      "cell_type": "markdown",
      "source": [
        "### Handling Missing Values"
      ],
      "metadata": {
        "id": "rshrkFyhMiaM"
      }
    },
    {
      "cell_type": "code",
      "source": [
        "loan_df.isnull().sum()"
      ],
      "metadata": {
        "id": "0vKTuTPyzkx0",
        "colab": {
          "base_uri": "https://localhost:8080/"
        },
        "outputId": "53d16630-e949-4469-fdd4-6aa3bf33ed5b"
      },
      "execution_count": 47,
      "outputs": [
        {
          "output_type": "execute_result",
          "data": {
            "text/plain": [
              "Loan_ID               0\n",
              "Gender               13\n",
              "Married               3\n",
              "Dependents           15\n",
              "Education             0\n",
              "Self_Employed        32\n",
              "ApplicantIncome       0\n",
              "CoapplicantIncome     0\n",
              "LoanAmount           22\n",
              "Loan_Amount_Term     14\n",
              "Credit_History       50\n",
              "Property_Area         0\n",
              "Loan_Status           0\n",
              "dtype: int64"
            ]
          },
          "metadata": {},
          "execution_count": 47
        }
      ]
    },
    {
      "cell_type": "code",
      "source": [
        "missing_value_features = loan_df[['LoanAmount', 'Loan_Amount_Term', 'Credit_History']]\n",
        "\n",
        "for features in missing_value_features:\n",
        "    loan_df.fillna({features: loan_df[features].median()}, inplace=True)"
      ],
      "metadata": {
        "id": "QosjLQnxzkpV"
      },
      "execution_count": 49,
      "outputs": []
    },
    {
      "cell_type": "code",
      "source": [
        "loan_df.dropna(inplace=True)\n"
      ],
      "metadata": {
        "id": "Pitklng6NbOm"
      },
      "execution_count": 55,
      "outputs": []
    },
    {
      "cell_type": "code",
      "source": [
        "loan_df.shape"
      ],
      "metadata": {
        "colab": {
          "base_uri": "https://localhost:8080/"
        },
        "id": "dDzWb_21NbCl",
        "outputId": "dedde570-6795-4322-a52c-f5a968ae7840"
      },
      "execution_count": 56,
      "outputs": [
        {
          "output_type": "execute_result",
          "data": {
            "text/plain": [
              "(614, 13)"
            ]
          },
          "metadata": {},
          "execution_count": 56
        }
      ]
    },
    {
      "cell_type": "code",
      "source": [
        "loan_df.drop('Loan_ID', axis=1, inplace=True)"
      ],
      "metadata": {
        "id": "-H-bus7CNa48"
      },
      "execution_count": 57,
      "outputs": []
    },
    {
      "cell_type": "markdown",
      "source": [
        "### Encoding Categorical Variables"
      ],
      "metadata": {
        "id": "6k1o3iSYQGo-"
      }
    },
    {
      "cell_type": "code",
      "source": [],
      "metadata": {
        "id": "ZTmJtOgmNavs"
      },
      "execution_count": null,
      "outputs": []
    },
    {
      "cell_type": "code",
      "source": [],
      "metadata": {
        "id": "eFisgYEuNal8"
      },
      "execution_count": null,
      "outputs": []
    },
    {
      "cell_type": "code",
      "source": [],
      "metadata": {
        "id": "XLmc3nA8Nabl"
      },
      "execution_count": null,
      "outputs": []
    },
    {
      "cell_type": "code",
      "source": [],
      "metadata": {
        "id": "jcCFpu2yNaPI"
      },
      "execution_count": null,
      "outputs": []
    },
    {
      "cell_type": "code",
      "source": [],
      "metadata": {
        "id": "tXE6-7PzQJzi"
      },
      "execution_count": null,
      "outputs": []
    },
    {
      "cell_type": "markdown",
      "source": [
        "# Classifying Wine Quality Using Decision Trees"
      ],
      "metadata": {
        "id": "P0KnPcktQK-g"
      }
    },
    {
      "cell_type": "markdown",
      "source": [
        " Classifying Wine Quality Using Decision Trees\n",
        "\n",
        "    Dataset:\n",
        "Wine Quality Dataset\n",
        "\n",
        "    Preprocessing Steps:\n",
        "Handle missing values if any.\n",
        "\n",
        "Standardize features.\n",
        "\n",
        "Encode categorical variables if present.\n",
        "\n",
        "    Task: 5\n",
        "Implement a decision tree classifier to classify wine quality (good/bad) and evaluate the model using accuracy and ROC-AUC.\n"
      ],
      "metadata": {
        "id": "718wnFZrzlsy"
      }
    },
    {
      "cell_type": "code",
      "source": [
        "wine_df = pd.read_csv('/content/drive/MyDrive/Datasets /BWF_Week6_Datasets/WineQuality.csv')\n",
        "wine_df.head()"
      ],
      "metadata": {
        "id": "VI-vBT67zvbT",
        "colab": {
          "base_uri": "https://localhost:8080/",
          "height": 261
        },
        "outputId": "40147cb2-869a-4adc-e07d-f7a1db801d28"
      },
      "execution_count": 20,
      "outputs": [
        {
          "output_type": "execute_result",
          "data": {
            "text/plain": [
              "   fixed acidity  volatile acidity  citric acid  residual sugar  chlorides  \\\n",
              "0            7.4              0.70         0.00             1.9      0.076   \n",
              "1            7.8              0.88         0.00             2.6      0.098   \n",
              "2            7.8              0.76         0.04             2.3      0.092   \n",
              "3           11.2              0.28         0.56             1.9      0.075   \n",
              "4            7.4              0.70         0.00             1.9      0.076   \n",
              "\n",
              "   free sulfur dioxide  total sulfur dioxide  density    pH  sulphates  \\\n",
              "0                 11.0                  34.0   0.9978  3.51       0.56   \n",
              "1                 25.0                  67.0   0.9968  3.20       0.68   \n",
              "2                 15.0                  54.0   0.9970  3.26       0.65   \n",
              "3                 17.0                  60.0   0.9980  3.16       0.58   \n",
              "4                 11.0                  34.0   0.9978  3.51       0.56   \n",
              "\n",
              "   alcohol  quality  \n",
              "0      9.4        5  \n",
              "1      9.8        5  \n",
              "2      9.8        5  \n",
              "3      9.8        6  \n",
              "4      9.4        5  "
            ],
            "text/html": [
              "\n",
              "  <div id=\"df-72876454-8939-424b-a646-87a61ce88457\" class=\"colab-df-container\">\n",
              "    <div>\n",
              "<style scoped>\n",
              "    .dataframe tbody tr th:only-of-type {\n",
              "        vertical-align: middle;\n",
              "    }\n",
              "\n",
              "    .dataframe tbody tr th {\n",
              "        vertical-align: top;\n",
              "    }\n",
              "\n",
              "    .dataframe thead th {\n",
              "        text-align: right;\n",
              "    }\n",
              "</style>\n",
              "<table border=\"1\" class=\"dataframe\">\n",
              "  <thead>\n",
              "    <tr style=\"text-align: right;\">\n",
              "      <th></th>\n",
              "      <th>fixed acidity</th>\n",
              "      <th>volatile acidity</th>\n",
              "      <th>citric acid</th>\n",
              "      <th>residual sugar</th>\n",
              "      <th>chlorides</th>\n",
              "      <th>free sulfur dioxide</th>\n",
              "      <th>total sulfur dioxide</th>\n",
              "      <th>density</th>\n",
              "      <th>pH</th>\n",
              "      <th>sulphates</th>\n",
              "      <th>alcohol</th>\n",
              "      <th>quality</th>\n",
              "    </tr>\n",
              "  </thead>\n",
              "  <tbody>\n",
              "    <tr>\n",
              "      <th>0</th>\n",
              "      <td>7.4</td>\n",
              "      <td>0.70</td>\n",
              "      <td>0.00</td>\n",
              "      <td>1.9</td>\n",
              "      <td>0.076</td>\n",
              "      <td>11.0</td>\n",
              "      <td>34.0</td>\n",
              "      <td>0.9978</td>\n",
              "      <td>3.51</td>\n",
              "      <td>0.56</td>\n",
              "      <td>9.4</td>\n",
              "      <td>5</td>\n",
              "    </tr>\n",
              "    <tr>\n",
              "      <th>1</th>\n",
              "      <td>7.8</td>\n",
              "      <td>0.88</td>\n",
              "      <td>0.00</td>\n",
              "      <td>2.6</td>\n",
              "      <td>0.098</td>\n",
              "      <td>25.0</td>\n",
              "      <td>67.0</td>\n",
              "      <td>0.9968</td>\n",
              "      <td>3.20</td>\n",
              "      <td>0.68</td>\n",
              "      <td>9.8</td>\n",
              "      <td>5</td>\n",
              "    </tr>\n",
              "    <tr>\n",
              "      <th>2</th>\n",
              "      <td>7.8</td>\n",
              "      <td>0.76</td>\n",
              "      <td>0.04</td>\n",
              "      <td>2.3</td>\n",
              "      <td>0.092</td>\n",
              "      <td>15.0</td>\n",
              "      <td>54.0</td>\n",
              "      <td>0.9970</td>\n",
              "      <td>3.26</td>\n",
              "      <td>0.65</td>\n",
              "      <td>9.8</td>\n",
              "      <td>5</td>\n",
              "    </tr>\n",
              "    <tr>\n",
              "      <th>3</th>\n",
              "      <td>11.2</td>\n",
              "      <td>0.28</td>\n",
              "      <td>0.56</td>\n",
              "      <td>1.9</td>\n",
              "      <td>0.075</td>\n",
              "      <td>17.0</td>\n",
              "      <td>60.0</td>\n",
              "      <td>0.9980</td>\n",
              "      <td>3.16</td>\n",
              "      <td>0.58</td>\n",
              "      <td>9.8</td>\n",
              "      <td>6</td>\n",
              "    </tr>\n",
              "    <tr>\n",
              "      <th>4</th>\n",
              "      <td>7.4</td>\n",
              "      <td>0.70</td>\n",
              "      <td>0.00</td>\n",
              "      <td>1.9</td>\n",
              "      <td>0.076</td>\n",
              "      <td>11.0</td>\n",
              "      <td>34.0</td>\n",
              "      <td>0.9978</td>\n",
              "      <td>3.51</td>\n",
              "      <td>0.56</td>\n",
              "      <td>9.4</td>\n",
              "      <td>5</td>\n",
              "    </tr>\n",
              "  </tbody>\n",
              "</table>\n",
              "</div>\n",
              "    <div class=\"colab-df-buttons\">\n",
              "\n",
              "  <div class=\"colab-df-container\">\n",
              "    <button class=\"colab-df-convert\" onclick=\"convertToInteractive('df-72876454-8939-424b-a646-87a61ce88457')\"\n",
              "            title=\"Convert this dataframe to an interactive table.\"\n",
              "            style=\"display:none;\">\n",
              "\n",
              "  <svg xmlns=\"http://www.w3.org/2000/svg\" height=\"24px\" viewBox=\"0 -960 960 960\">\n",
              "    <path d=\"M120-120v-720h720v720H120Zm60-500h600v-160H180v160Zm220 220h160v-160H400v160Zm0 220h160v-160H400v160ZM180-400h160v-160H180v160Zm440 0h160v-160H620v160ZM180-180h160v-160H180v160Zm440 0h160v-160H620v160Z\"/>\n",
              "  </svg>\n",
              "    </button>\n",
              "\n",
              "  <style>\n",
              "    .colab-df-container {\n",
              "      display:flex;\n",
              "      gap: 12px;\n",
              "    }\n",
              "\n",
              "    .colab-df-convert {\n",
              "      background-color: #E8F0FE;\n",
              "      border: none;\n",
              "      border-radius: 50%;\n",
              "      cursor: pointer;\n",
              "      display: none;\n",
              "      fill: #1967D2;\n",
              "      height: 32px;\n",
              "      padding: 0 0 0 0;\n",
              "      width: 32px;\n",
              "    }\n",
              "\n",
              "    .colab-df-convert:hover {\n",
              "      background-color: #E2EBFA;\n",
              "      box-shadow: 0px 1px 2px rgba(60, 64, 67, 0.3), 0px 1px 3px 1px rgba(60, 64, 67, 0.15);\n",
              "      fill: #174EA6;\n",
              "    }\n",
              "\n",
              "    .colab-df-buttons div {\n",
              "      margin-bottom: 4px;\n",
              "    }\n",
              "\n",
              "    [theme=dark] .colab-df-convert {\n",
              "      background-color: #3B4455;\n",
              "      fill: #D2E3FC;\n",
              "    }\n",
              "\n",
              "    [theme=dark] .colab-df-convert:hover {\n",
              "      background-color: #434B5C;\n",
              "      box-shadow: 0px 1px 3px 1px rgba(0, 0, 0, 0.15);\n",
              "      filter: drop-shadow(0px 1px 2px rgba(0, 0, 0, 0.3));\n",
              "      fill: #FFFFFF;\n",
              "    }\n",
              "  </style>\n",
              "\n",
              "    <script>\n",
              "      const buttonEl =\n",
              "        document.querySelector('#df-72876454-8939-424b-a646-87a61ce88457 button.colab-df-convert');\n",
              "      buttonEl.style.display =\n",
              "        google.colab.kernel.accessAllowed ? 'block' : 'none';\n",
              "\n",
              "      async function convertToInteractive(key) {\n",
              "        const element = document.querySelector('#df-72876454-8939-424b-a646-87a61ce88457');\n",
              "        const dataTable =\n",
              "          await google.colab.kernel.invokeFunction('convertToInteractive',\n",
              "                                                    [key], {});\n",
              "        if (!dataTable) return;\n",
              "\n",
              "        const docLinkHtml = 'Like what you see? Visit the ' +\n",
              "          '<a target=\"_blank\" href=https://colab.research.google.com/notebooks/data_table.ipynb>data table notebook</a>'\n",
              "          + ' to learn more about interactive tables.';\n",
              "        element.innerHTML = '';\n",
              "        dataTable['output_type'] = 'display_data';\n",
              "        await google.colab.output.renderOutput(dataTable, element);\n",
              "        const docLink = document.createElement('div');\n",
              "        docLink.innerHTML = docLinkHtml;\n",
              "        element.appendChild(docLink);\n",
              "      }\n",
              "    </script>\n",
              "  </div>\n",
              "\n",
              "\n",
              "<div id=\"df-522db4bc-1f3f-4445-9568-2d363cabe64b\">\n",
              "  <button class=\"colab-df-quickchart\" onclick=\"quickchart('df-522db4bc-1f3f-4445-9568-2d363cabe64b')\"\n",
              "            title=\"Suggest charts\"\n",
              "            style=\"display:none;\">\n",
              "\n",
              "<svg xmlns=\"http://www.w3.org/2000/svg\" height=\"24px\"viewBox=\"0 0 24 24\"\n",
              "     width=\"24px\">\n",
              "    <g>\n",
              "        <path d=\"M19 3H5c-1.1 0-2 .9-2 2v14c0 1.1.9 2 2 2h14c1.1 0 2-.9 2-2V5c0-1.1-.9-2-2-2zM9 17H7v-7h2v7zm4 0h-2V7h2v10zm4 0h-2v-4h2v4z\"/>\n",
              "    </g>\n",
              "</svg>\n",
              "  </button>\n",
              "\n",
              "<style>\n",
              "  .colab-df-quickchart {\n",
              "      --bg-color: #E8F0FE;\n",
              "      --fill-color: #1967D2;\n",
              "      --hover-bg-color: #E2EBFA;\n",
              "      --hover-fill-color: #174EA6;\n",
              "      --disabled-fill-color: #AAA;\n",
              "      --disabled-bg-color: #DDD;\n",
              "  }\n",
              "\n",
              "  [theme=dark] .colab-df-quickchart {\n",
              "      --bg-color: #3B4455;\n",
              "      --fill-color: #D2E3FC;\n",
              "      --hover-bg-color: #434B5C;\n",
              "      --hover-fill-color: #FFFFFF;\n",
              "      --disabled-bg-color: #3B4455;\n",
              "      --disabled-fill-color: #666;\n",
              "  }\n",
              "\n",
              "  .colab-df-quickchart {\n",
              "    background-color: var(--bg-color);\n",
              "    border: none;\n",
              "    border-radius: 50%;\n",
              "    cursor: pointer;\n",
              "    display: none;\n",
              "    fill: var(--fill-color);\n",
              "    height: 32px;\n",
              "    padding: 0;\n",
              "    width: 32px;\n",
              "  }\n",
              "\n",
              "  .colab-df-quickchart:hover {\n",
              "    background-color: var(--hover-bg-color);\n",
              "    box-shadow: 0 1px 2px rgba(60, 64, 67, 0.3), 0 1px 3px 1px rgba(60, 64, 67, 0.15);\n",
              "    fill: var(--button-hover-fill-color);\n",
              "  }\n",
              "\n",
              "  .colab-df-quickchart-complete:disabled,\n",
              "  .colab-df-quickchart-complete:disabled:hover {\n",
              "    background-color: var(--disabled-bg-color);\n",
              "    fill: var(--disabled-fill-color);\n",
              "    box-shadow: none;\n",
              "  }\n",
              "\n",
              "  .colab-df-spinner {\n",
              "    border: 2px solid var(--fill-color);\n",
              "    border-color: transparent;\n",
              "    border-bottom-color: var(--fill-color);\n",
              "    animation:\n",
              "      spin 1s steps(1) infinite;\n",
              "  }\n",
              "\n",
              "  @keyframes spin {\n",
              "    0% {\n",
              "      border-color: transparent;\n",
              "      border-bottom-color: var(--fill-color);\n",
              "      border-left-color: var(--fill-color);\n",
              "    }\n",
              "    20% {\n",
              "      border-color: transparent;\n",
              "      border-left-color: var(--fill-color);\n",
              "      border-top-color: var(--fill-color);\n",
              "    }\n",
              "    30% {\n",
              "      border-color: transparent;\n",
              "      border-left-color: var(--fill-color);\n",
              "      border-top-color: var(--fill-color);\n",
              "      border-right-color: var(--fill-color);\n",
              "    }\n",
              "    40% {\n",
              "      border-color: transparent;\n",
              "      border-right-color: var(--fill-color);\n",
              "      border-top-color: var(--fill-color);\n",
              "    }\n",
              "    60% {\n",
              "      border-color: transparent;\n",
              "      border-right-color: var(--fill-color);\n",
              "    }\n",
              "    80% {\n",
              "      border-color: transparent;\n",
              "      border-right-color: var(--fill-color);\n",
              "      border-bottom-color: var(--fill-color);\n",
              "    }\n",
              "    90% {\n",
              "      border-color: transparent;\n",
              "      border-bottom-color: var(--fill-color);\n",
              "    }\n",
              "  }\n",
              "</style>\n",
              "\n",
              "  <script>\n",
              "    async function quickchart(key) {\n",
              "      const quickchartButtonEl =\n",
              "        document.querySelector('#' + key + ' button');\n",
              "      quickchartButtonEl.disabled = true;  // To prevent multiple clicks.\n",
              "      quickchartButtonEl.classList.add('colab-df-spinner');\n",
              "      try {\n",
              "        const charts = await google.colab.kernel.invokeFunction(\n",
              "            'suggestCharts', [key], {});\n",
              "      } catch (error) {\n",
              "        console.error('Error during call to suggestCharts:', error);\n",
              "      }\n",
              "      quickchartButtonEl.classList.remove('colab-df-spinner');\n",
              "      quickchartButtonEl.classList.add('colab-df-quickchart-complete');\n",
              "    }\n",
              "    (() => {\n",
              "      let quickchartButtonEl =\n",
              "        document.querySelector('#df-522db4bc-1f3f-4445-9568-2d363cabe64b button');\n",
              "      quickchartButtonEl.style.display =\n",
              "        google.colab.kernel.accessAllowed ? 'block' : 'none';\n",
              "    })();\n",
              "  </script>\n",
              "</div>\n",
              "\n",
              "    </div>\n",
              "  </div>\n"
            ],
            "application/vnd.google.colaboratory.intrinsic+json": {
              "type": "dataframe",
              "variable_name": "wine_df",
              "summary": "{\n  \"name\": \"wine_df\",\n  \"rows\": 1599,\n  \"fields\": [\n    {\n      \"column\": \"fixed acidity\",\n      \"properties\": {\n        \"dtype\": \"number\",\n        \"std\": 1.7410963181276953,\n        \"min\": 4.6,\n        \"max\": 15.9,\n        \"num_unique_values\": 96,\n        \"samples\": [\n          5.3,\n          12.7,\n          12.6\n        ],\n        \"semantic_type\": \"\",\n        \"description\": \"\"\n      }\n    },\n    {\n      \"column\": \"volatile acidity\",\n      \"properties\": {\n        \"dtype\": \"number\",\n        \"std\": 0.17905970415353537,\n        \"min\": 0.12,\n        \"max\": 1.58,\n        \"num_unique_values\": 143,\n        \"samples\": [\n          1.025,\n          0.4,\n          0.87\n        ],\n        \"semantic_type\": \"\",\n        \"description\": \"\"\n      }\n    },\n    {\n      \"column\": \"citric acid\",\n      \"properties\": {\n        \"dtype\": \"number\",\n        \"std\": 0.19480113740531857,\n        \"min\": 0.0,\n        \"max\": 1.0,\n        \"num_unique_values\": 80,\n        \"samples\": [\n          0.37,\n          0.0,\n          0.09\n        ],\n        \"semantic_type\": \"\",\n        \"description\": \"\"\n      }\n    },\n    {\n      \"column\": \"residual sugar\",\n      \"properties\": {\n        \"dtype\": \"number\",\n        \"std\": 1.4099280595072798,\n        \"min\": 0.9,\n        \"max\": 15.5,\n        \"num_unique_values\": 91,\n        \"samples\": [\n          11.0,\n          3.0,\n          15.5\n        ],\n        \"semantic_type\": \"\",\n        \"description\": \"\"\n      }\n    },\n    {\n      \"column\": \"chlorides\",\n      \"properties\": {\n        \"dtype\": \"number\",\n        \"std\": 0.0470653020100901,\n        \"min\": 0.012,\n        \"max\": 0.611,\n        \"num_unique_values\": 153,\n        \"samples\": [\n          0.096,\n          0.3429999999999999,\n          0.159\n        ],\n        \"semantic_type\": \"\",\n        \"description\": \"\"\n      }\n    },\n    {\n      \"column\": \"free sulfur dioxide\",\n      \"properties\": {\n        \"dtype\": \"number\",\n        \"std\": 10.460156969809725,\n        \"min\": 1.0,\n        \"max\": 72.0,\n        \"num_unique_values\": 60,\n        \"samples\": [\n          11.0,\n          9.0,\n          32.0\n        ],\n        \"semantic_type\": \"\",\n        \"description\": \"\"\n      }\n    },\n    {\n      \"column\": \"total sulfur dioxide\",\n      \"properties\": {\n        \"dtype\": \"number\",\n        \"std\": 32.895324478299074,\n        \"min\": 6.0,\n        \"max\": 289.0,\n        \"num_unique_values\": 144,\n        \"samples\": [\n          68.0,\n          35.0,\n          101.0\n        ],\n        \"semantic_type\": \"\",\n        \"description\": \"\"\n      }\n    },\n    {\n      \"column\": \"density\",\n      \"properties\": {\n        \"dtype\": \"number\",\n        \"std\": 0.0018873339538425554,\n        \"min\": 0.99007,\n        \"max\": 1.00369,\n        \"num_unique_values\": 436,\n        \"samples\": [\n          0.99974,\n          1.0001,\n          0.99471\n        ],\n        \"semantic_type\": \"\",\n        \"description\": \"\"\n      }\n    },\n    {\n      \"column\": \"pH\",\n      \"properties\": {\n        \"dtype\": \"number\",\n        \"std\": 0.15438646490354277,\n        \"min\": 2.74,\n        \"max\": 4.01,\n        \"num_unique_values\": 89,\n        \"samples\": [\n          3.07,\n          3.0,\n          3.15\n        ],\n        \"semantic_type\": \"\",\n        \"description\": \"\"\n      }\n    },\n    {\n      \"column\": \"sulphates\",\n      \"properties\": {\n        \"dtype\": \"number\",\n        \"std\": 0.16950697959010996,\n        \"min\": 0.33,\n        \"max\": 2.0,\n        \"num_unique_values\": 96,\n        \"samples\": [\n          1.07,\n          1.04,\n          1.18\n        ],\n        \"semantic_type\": \"\",\n        \"description\": \"\"\n      }\n    },\n    {\n      \"column\": \"alcohol\",\n      \"properties\": {\n        \"dtype\": \"number\",\n        \"std\": 1.0656675818473946,\n        \"min\": 8.4,\n        \"max\": 14.9,\n        \"num_unique_values\": 65,\n        \"samples\": [\n          8.5,\n          9.95,\n          9.4\n        ],\n        \"semantic_type\": \"\",\n        \"description\": \"\"\n      }\n    },\n    {\n      \"column\": \"quality\",\n      \"properties\": {\n        \"dtype\": \"number\",\n        \"std\": 0,\n        \"min\": 3,\n        \"max\": 8,\n        \"num_unique_values\": 6,\n        \"samples\": [\n          5,\n          6,\n          3\n        ],\n        \"semantic_type\": \"\",\n        \"description\": \"\"\n      }\n    }\n  ]\n}"
            }
          },
          "metadata": {},
          "execution_count": 20
        }
      ]
    },
    {
      "cell_type": "code",
      "source": [
        "wine_df.info()"
      ],
      "metadata": {
        "id": "Dyjmf5JJzwXS",
        "colab": {
          "base_uri": "https://localhost:8080/"
        },
        "outputId": "ab7a9af8-bb79-47f7-94de-d073d7ef05bd"
      },
      "execution_count": 21,
      "outputs": [
        {
          "output_type": "stream",
          "name": "stdout",
          "text": [
            "<class 'pandas.core.frame.DataFrame'>\n",
            "RangeIndex: 1599 entries, 0 to 1598\n",
            "Data columns (total 12 columns):\n",
            " #   Column                Non-Null Count  Dtype  \n",
            "---  ------                --------------  -----  \n",
            " 0   fixed acidity         1599 non-null   float64\n",
            " 1   volatile acidity      1599 non-null   float64\n",
            " 2   citric acid           1599 non-null   float64\n",
            " 3   residual sugar        1599 non-null   float64\n",
            " 4   chlorides             1599 non-null   float64\n",
            " 5   free sulfur dioxide   1599 non-null   float64\n",
            " 6   total sulfur dioxide  1599 non-null   float64\n",
            " 7   density               1599 non-null   float64\n",
            " 8   pH                    1599 non-null   float64\n",
            " 9   sulphates             1599 non-null   float64\n",
            " 10  alcohol               1599 non-null   float64\n",
            " 11  quality               1599 non-null   int64  \n",
            "dtypes: float64(11), int64(1)\n",
            "memory usage: 150.0 KB\n"
          ]
        }
      ]
    },
    {
      "cell_type": "code",
      "source": [
        "wine_df.isnull().sum()"
      ],
      "metadata": {
        "id": "dGbSMRp6zwCR",
        "colab": {
          "base_uri": "https://localhost:8080/"
        },
        "outputId": "5625d044-19d8-4f87-957f-20b12c2f1ae9"
      },
      "execution_count": 22,
      "outputs": [
        {
          "output_type": "execute_result",
          "data": {
            "text/plain": [
              "fixed acidity           0\n",
              "volatile acidity        0\n",
              "citric acid             0\n",
              "residual sugar          0\n",
              "chlorides               0\n",
              "free sulfur dioxide     0\n",
              "total sulfur dioxide    0\n",
              "density                 0\n",
              "pH                      0\n",
              "sulphates               0\n",
              "alcohol                 0\n",
              "quality                 0\n",
              "dtype: int64"
            ]
          },
          "metadata": {},
          "execution_count": 22
        }
      ]
    },
    {
      "cell_type": "markdown",
      "source": [
        "**No missing Values in the dataset.**"
      ],
      "metadata": {
        "id": "PlqAjf3dRfVu"
      }
    },
    {
      "cell_type": "markdown",
      "source": [
        "### Standardizing Features"
      ],
      "metadata": {
        "id": "I5C7IrmnRo6I"
      }
    },
    {
      "cell_type": "code",
      "source": [
        "X = wine_df.drop('quality', axis=1)\n",
        "y = wine_df['quality']"
      ],
      "metadata": {
        "id": "hKM0ubLPzv5d"
      },
      "execution_count": 23,
      "outputs": []
    },
    {
      "cell_type": "markdown",
      "source": [
        "### Standardization"
      ],
      "metadata": {
        "id": "bt3xd8oqS7Fi"
      }
    },
    {
      "cell_type": "code",
      "source": [
        "# Applying Standardization\n",
        "scaler = StandardScaler()\n",
        "X_scaled = X.copy()\n",
        "\n",
        "for features in X.columns:\n",
        "    X_scaled[features] = scaler.fit_transform(X[[features]])"
      ],
      "metadata": {
        "id": "C5YpWKR4RzzA"
      },
      "execution_count": 24,
      "outputs": []
    },
    {
      "cell_type": "markdown",
      "source": [
        "### Encoding Categorical data"
      ],
      "metadata": {
        "id": "_hTP_cZ2JLrd"
      }
    },
    {
      "cell_type": "code",
      "source": [
        "# Setting the threshlod that if rating is greater than 5, it'll be good(1), else bad (0).\n",
        "y = y.apply(lambda x:1 if x>5 else 0)\n",
        "\n",
        "print('Categories of quality:', y.nunique(), ': ', y.unique())\n",
        "print(y.value_counts())"
      ],
      "metadata": {
        "colab": {
          "base_uri": "https://localhost:8080/"
        },
        "id": "Dcb2UsIaJLZM",
        "outputId": "f0327c35-8a72-4bf8-ab79-e94b9e982ebe"
      },
      "execution_count": 25,
      "outputs": [
        {
          "output_type": "stream",
          "name": "stdout",
          "text": [
            "Categories of quality: 2 :  [0 1]\n",
            "quality\n",
            "1    855\n",
            "0    744\n",
            "Name: count, dtype: int64\n"
          ]
        }
      ]
    },
    {
      "cell_type": "markdown",
      "source": [
        "### Model Training"
      ],
      "metadata": {
        "id": "XL4jWMm5KMHR"
      }
    },
    {
      "cell_type": "code",
      "source": [
        "X_train, X_test, y_train, y_test = train_test_split(X_scaled, y, test_size=0.2, random_state=42)"
      ],
      "metadata": {
        "id": "Y6Q3eLm0I3aY"
      },
      "execution_count": 26,
      "outputs": []
    },
    {
      "cell_type": "code",
      "source": [
        "dtc = DecisionTreeClassifier()\n",
        "dtc.fit(X_train, y_train)"
      ],
      "metadata": {
        "colab": {
          "base_uri": "https://localhost:8080/",
          "height": 74
        },
        "id": "dvdp4nN3KVwv",
        "outputId": "55708ae5-5249-4bc2-bb06-fac733d1d131"
      },
      "execution_count": 27,
      "outputs": [
        {
          "output_type": "execute_result",
          "data": {
            "text/plain": [
              "DecisionTreeClassifier()"
            ],
            "text/html": [
              "<style>#sk-container-id-1 {color: black;}#sk-container-id-1 pre{padding: 0;}#sk-container-id-1 div.sk-toggleable {background-color: white;}#sk-container-id-1 label.sk-toggleable__label {cursor: pointer;display: block;width: 100%;margin-bottom: 0;padding: 0.3em;box-sizing: border-box;text-align: center;}#sk-container-id-1 label.sk-toggleable__label-arrow:before {content: \"▸\";float: left;margin-right: 0.25em;color: #696969;}#sk-container-id-1 label.sk-toggleable__label-arrow:hover:before {color: black;}#sk-container-id-1 div.sk-estimator:hover label.sk-toggleable__label-arrow:before {color: black;}#sk-container-id-1 div.sk-toggleable__content {max-height: 0;max-width: 0;overflow: hidden;text-align: left;background-color: #f0f8ff;}#sk-container-id-1 div.sk-toggleable__content pre {margin: 0.2em;color: black;border-radius: 0.25em;background-color: #f0f8ff;}#sk-container-id-1 input.sk-toggleable__control:checked~div.sk-toggleable__content {max-height: 200px;max-width: 100%;overflow: auto;}#sk-container-id-1 input.sk-toggleable__control:checked~label.sk-toggleable__label-arrow:before {content: \"▾\";}#sk-container-id-1 div.sk-estimator input.sk-toggleable__control:checked~label.sk-toggleable__label {background-color: #d4ebff;}#sk-container-id-1 div.sk-label input.sk-toggleable__control:checked~label.sk-toggleable__label {background-color: #d4ebff;}#sk-container-id-1 input.sk-hidden--visually {border: 0;clip: rect(1px 1px 1px 1px);clip: rect(1px, 1px, 1px, 1px);height: 1px;margin: -1px;overflow: hidden;padding: 0;position: absolute;width: 1px;}#sk-container-id-1 div.sk-estimator {font-family: monospace;background-color: #f0f8ff;border: 1px dotted black;border-radius: 0.25em;box-sizing: border-box;margin-bottom: 0.5em;}#sk-container-id-1 div.sk-estimator:hover {background-color: #d4ebff;}#sk-container-id-1 div.sk-parallel-item::after {content: \"\";width: 100%;border-bottom: 1px solid gray;flex-grow: 1;}#sk-container-id-1 div.sk-label:hover label.sk-toggleable__label {background-color: #d4ebff;}#sk-container-id-1 div.sk-serial::before {content: \"\";position: absolute;border-left: 1px solid gray;box-sizing: border-box;top: 0;bottom: 0;left: 50%;z-index: 0;}#sk-container-id-1 div.sk-serial {display: flex;flex-direction: column;align-items: center;background-color: white;padding-right: 0.2em;padding-left: 0.2em;position: relative;}#sk-container-id-1 div.sk-item {position: relative;z-index: 1;}#sk-container-id-1 div.sk-parallel {display: flex;align-items: stretch;justify-content: center;background-color: white;position: relative;}#sk-container-id-1 div.sk-item::before, #sk-container-id-1 div.sk-parallel-item::before {content: \"\";position: absolute;border-left: 1px solid gray;box-sizing: border-box;top: 0;bottom: 0;left: 50%;z-index: -1;}#sk-container-id-1 div.sk-parallel-item {display: flex;flex-direction: column;z-index: 1;position: relative;background-color: white;}#sk-container-id-1 div.sk-parallel-item:first-child::after {align-self: flex-end;width: 50%;}#sk-container-id-1 div.sk-parallel-item:last-child::after {align-self: flex-start;width: 50%;}#sk-container-id-1 div.sk-parallel-item:only-child::after {width: 0;}#sk-container-id-1 div.sk-dashed-wrapped {border: 1px dashed gray;margin: 0 0.4em 0.5em 0.4em;box-sizing: border-box;padding-bottom: 0.4em;background-color: white;}#sk-container-id-1 div.sk-label label {font-family: monospace;font-weight: bold;display: inline-block;line-height: 1.2em;}#sk-container-id-1 div.sk-label-container {text-align: center;}#sk-container-id-1 div.sk-container {/* jupyter's `normalize.less` sets `[hidden] { display: none; }` but bootstrap.min.css set `[hidden] { display: none !important; }` so we also need the `!important` here to be able to override the default hidden behavior on the sphinx rendered scikit-learn.org. See: https://github.com/scikit-learn/scikit-learn/issues/21755 */display: inline-block !important;position: relative;}#sk-container-id-1 div.sk-text-repr-fallback {display: none;}</style><div id=\"sk-container-id-1\" class=\"sk-top-container\"><div class=\"sk-text-repr-fallback\"><pre>DecisionTreeClassifier()</pre><b>In a Jupyter environment, please rerun this cell to show the HTML representation or trust the notebook. <br />On GitHub, the HTML representation is unable to render, please try loading this page with nbviewer.org.</b></div><div class=\"sk-container\" hidden><div class=\"sk-item\"><div class=\"sk-estimator sk-toggleable\"><input class=\"sk-toggleable__control sk-hidden--visually\" id=\"sk-estimator-id-1\" type=\"checkbox\" checked><label for=\"sk-estimator-id-1\" class=\"sk-toggleable__label sk-toggleable__label-arrow\">DecisionTreeClassifier</label><div class=\"sk-toggleable__content\"><pre>DecisionTreeClassifier()</pre></div></div></div></div></div>"
            ]
          },
          "metadata": {},
          "execution_count": 27
        }
      ]
    },
    {
      "cell_type": "code",
      "source": [
        "# Predicting the target variable\n",
        "y_pred = dtc.predict(X_test)"
      ],
      "metadata": {
        "id": "HGMFws5GKVoR"
      },
      "execution_count": 28,
      "outputs": []
    },
    {
      "cell_type": "markdown",
      "source": [
        "### Model Evaluation"
      ],
      "metadata": {
        "id": "_fekAqhLKl_2"
      }
    },
    {
      "cell_type": "code",
      "source": [
        "from sklearn.metrics import classification_report\n",
        "\n",
        "print(classification_report(y_test, y_pred))\n"
      ],
      "metadata": {
        "colab": {
          "base_uri": "https://localhost:8080/"
        },
        "id": "th5r-tpxKVeQ",
        "outputId": "959149d4-82cf-4962-bef6-d8e8ae22a49f"
      },
      "execution_count": 29,
      "outputs": [
        {
          "output_type": "stream",
          "name": "stdout",
          "text": [
            "              precision    recall  f1-score   support\n",
            "\n",
            "           0       0.69      0.72      0.70       141\n",
            "           1       0.77      0.74      0.76       179\n",
            "\n",
            "    accuracy                           0.73       320\n",
            "   macro avg       0.73      0.73      0.73       320\n",
            "weighted avg       0.73      0.73      0.73       320\n",
            "\n"
          ]
        }
      ]
    },
    {
      "cell_type": "code",
      "source": [
        "# Calculating the roc-auc score of the model\n",
        "\n",
        "y_pred_proba = dtc.predict_proba(X_test)[:, 1]\n",
        "roc_auc = roc_auc_score(y_test, y_pred_proba)\n",
        "print('ROC-AUC score of the model:', roc_auc)"
      ],
      "metadata": {
        "colab": {
          "base_uri": "https://localhost:8080/"
        },
        "id": "mf03HlmSKVPG",
        "outputId": "08665b50-1f2c-4b30-e134-dfe5b3e5abc7"
      },
      "execution_count": 30,
      "outputs": [
        {
          "output_type": "stream",
          "name": "stdout",
          "text": [
            "ROC-AUC score of the model: 0.7296644082570625\n"
          ]
        }
      ]
    }
  ]
}