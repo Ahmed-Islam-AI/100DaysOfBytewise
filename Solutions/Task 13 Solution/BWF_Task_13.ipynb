{
  "nbformat": 4,
  "nbformat_minor": 0,
  "metadata": {
    "colab": {
      "provenance": []
    },
    "kernelspec": {
      "name": "python3",
      "display_name": "Python 3"
    },
    "language_info": {
      "name": "python"
    }
  },
  "cells": [
    {
      "cell_type": "markdown",
      "source": [
        "# Necessary libraries"
      ],
      "metadata": {
        "id": "V7ttckoOzxoV"
      }
    },
    {
      "cell_type": "code",
      "source": [
        "import pandas as pd\n",
        "import numpy as np\n",
        "import seaborn as sns\n",
        "import matplotlib.pyplot as plt\n",
        "%matplotlib inline\n",
        "import warnings\n",
        "warnings.filterwarnings('ignore')\n",
        "plt.rcParams['figure.figsize'] = (10, 6)\n",
        "pd.set_option('display.max_columns', None)\n"
      ],
      "metadata": {
        "id": "IOs4ZTcdz5NY"
      },
      "execution_count": null,
      "outputs": []
    },
    {
      "cell_type": "markdown",
      "source": [
        "Classifying Loan Status Using Decision Trees\n",
        "    \n",
        "    Dataset:\n",
        "Lending Club Loan Data\n",
        "    \n",
        "    Preprocessing Steps:\n",
        "Handle missing values if any.\n",
        "\n",
        "Encode categorical variables (e.g., one-hot encoding for loan grade, sub-grade, etc.).\n",
        "\n",
        "Standardize numerical features.\n",
        "   \n",
        "    Task: 1\n",
        "Implement a decision tree classifier to classify loan status and evaluate the model using accuracy and ROC-AUC.\n"
      ],
      "metadata": {
        "id": "JHYVMmN2yX-N"
      }
    },
    {
      "cell_type": "code",
      "execution_count": null,
      "metadata": {
        "id": "X3Crki67xCY4"
      },
      "outputs": [],
      "source": []
    },
    {
      "cell_type": "code",
      "source": [],
      "metadata": {
        "id": "7jamHArVyidy"
      },
      "execution_count": null,
      "outputs": []
    },
    {
      "cell_type": "code",
      "source": [],
      "metadata": {
        "id": "ats1KIOBykBw"
      },
      "execution_count": null,
      "outputs": []
    },
    {
      "cell_type": "markdown",
      "source": [
        " Predicting Hospital Readmission Using Logistic Regression\n",
        "    \n",
        "    Dataset:\n",
        "   \n",
        "   Hospital Readmission Dataset\n",
        "    \n",
        "    Preprocessing Steps:\n",
        "Handle missing values (e.g., fill missing values with mode for categorical variables).\n",
        "\n",
        "\n",
        "Encode categorical variables (e.g., one-hot encoding for hospital type, region, etc.).\n",
        "\n",
        "\n",
        "Standardize numerical features.\n",
        "    \n",
        "    Task: 2\n",
        "Implement logistic regression to predict hospital readmission and evaluate the model using precision, recall, and F1-score.\n"
      ],
      "metadata": {
        "id": "KNlPoviPykjj"
      }
    },
    {
      "cell_type": "code",
      "source": [],
      "metadata": {
        "id": "N33q6uo8zBWy"
      },
      "execution_count": null,
      "outputs": []
    },
    {
      "cell_type": "code",
      "source": [],
      "metadata": {
        "id": "kk7vwjpXzCjC"
      },
      "execution_count": null,
      "outputs": []
    },
    {
      "cell_type": "code",
      "source": [],
      "metadata": {
        "id": "PTlwqwwUzCZ4"
      },
      "execution_count": null,
      "outputs": []
    },
    {
      "cell_type": "markdown",
      "source": [
        "Classifying Digit Images Using Decision Trees\n",
        "    \n",
        "    Dataset:\n",
        "  MNIST Dataset\n",
        "    \n",
        "    Preprocessing Steps:\n",
        "Normalize pixel values.\n",
        "\n",
        "Reshape data as needed for model input.\n",
        "    \n",
        "    Task: 3\n",
        "Implement a decision tree classifier to classify handwritten digits and evaluate the model using accuracy and confusion matrix.\n"
      ],
      "metadata": {
        "id": "EtF_xQNNzDTD"
      }
    },
    {
      "cell_type": "code",
      "source": [],
      "metadata": {
        "id": "T0EpgU7BzW_A"
      },
      "execution_count": null,
      "outputs": []
    },
    {
      "cell_type": "code",
      "source": [],
      "metadata": {
        "id": "L12NJcenzXvZ"
      },
      "execution_count": null,
      "outputs": []
    },
    {
      "cell_type": "code",
      "source": [],
      "metadata": {
        "id": "rRrLFv6ozXob"
      },
      "execution_count": null,
      "outputs": []
    },
    {
      "cell_type": "code",
      "source": [],
      "metadata": {
        "id": "HhIQYh9IzXfh"
      },
      "execution_count": null,
      "outputs": []
    },
    {
      "cell_type": "markdown",
      "source": [
        "Predicting Loan Approval Using Logistic Regression\n",
        "\n",
        "    Dataset:\n",
        "Loan Prediction Dataset\n",
        "\n",
        "    Preprocessing Steps:\n",
        "Handle missing values (e.g., fill missing values with mode for categorical variables).\n",
        "\n",
        "Encode categorical variables (e.g., one-hot encoding for gender, married status, etc.).\n",
        "\n",
        "Standardize numerical features.\n",
        "\n",
        "    Task: 4\n",
        "Implement logistic regression to predict loan approval and evaluate the model using accuracy and confusion matrix.\n"
      ],
      "metadata": {
        "id": "Qel1zGFwzYV_"
      }
    },
    {
      "cell_type": "code",
      "source": [],
      "metadata": {
        "id": "pC6TBMuzzkA7"
      },
      "execution_count": null,
      "outputs": []
    },
    {
      "cell_type": "code",
      "source": [],
      "metadata": {
        "id": "pFVHZUiizlDn"
      },
      "execution_count": null,
      "outputs": []
    },
    {
      "cell_type": "code",
      "source": [],
      "metadata": {
        "id": "cwKYVEgNzk6t"
      },
      "execution_count": null,
      "outputs": []
    },
    {
      "cell_type": "code",
      "source": [],
      "metadata": {
        "id": "0vKTuTPyzkx0"
      },
      "execution_count": null,
      "outputs": []
    },
    {
      "cell_type": "code",
      "source": [],
      "metadata": {
        "id": "QosjLQnxzkpV"
      },
      "execution_count": null,
      "outputs": []
    },
    {
      "cell_type": "markdown",
      "source": [
        " Classifying Wine Quality Using Decision Trees\n",
        "\n",
        "    Dataset:\n",
        "Wine Quality Dataset\n",
        "\n",
        "    Preprocessing Steps:\n",
        "Handle missing values if any.\n",
        "\n",
        "Standardize features.\n",
        "\n",
        "Encode categorical variables if present.\n",
        "\n",
        "    Task: 5\n",
        "Implement a decision tree classifier to classify wine quality (good/bad) and evaluate the model using accuracy and ROC-AUC.\n"
      ],
      "metadata": {
        "id": "718wnFZrzlsy"
      }
    },
    {
      "cell_type": "code",
      "source": [],
      "metadata": {
        "id": "VI-vBT67zvbT"
      },
      "execution_count": null,
      "outputs": []
    },
    {
      "cell_type": "code",
      "source": [],
      "metadata": {
        "id": "Dyjmf5JJzwXS"
      },
      "execution_count": null,
      "outputs": []
    },
    {
      "cell_type": "code",
      "source": [],
      "metadata": {
        "id": "dGbSMRp6zwCR"
      },
      "execution_count": null,
      "outputs": []
    },
    {
      "cell_type": "code",
      "source": [],
      "metadata": {
        "id": "hKM0ubLPzv5d"
      },
      "execution_count": null,
      "outputs": []
    }
  ]
}