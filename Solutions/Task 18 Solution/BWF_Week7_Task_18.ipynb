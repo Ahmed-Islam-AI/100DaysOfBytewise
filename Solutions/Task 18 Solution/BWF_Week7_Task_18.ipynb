{
  "nbformat": 4,
  "nbformat_minor": 0,
  "metadata": {
    "colab": {
      "provenance": []
    },
    "kernelspec": {
      "name": "python3",
      "display_name": "Python 3"
    },
    "language_info": {
      "name": "python"
    }
  },
  "cells": [
    {
      "cell_type": "markdown",
      "source": [
        "# Bytewise Fellowship Week 7"
      ],
      "metadata": {
        "id": "Mg-HCwI2HdWT"
      }
    },
    {
      "cell_type": "markdown",
      "source": [
        "# Dataset : Wholesale Customers Dataset\n",
        "## K-Means Clustering for Customer Segmentation\n",
        "\n",
        "- **Task: 1**\n",
        "    - Use K-Means clustering to segment customers in the Wholesale Customers dataset based on their annual spending in different categories. Visualize the clusters.\n",
        "\n",
        "    - Evaluating the Optimal Number of Clusters\n",
        "\n",
        "- **Task: 2**\n",
        "    - Determine the optimal number of clusters for the Wholesale Customers dataset using the Elbow Method and Silhouette Score. Visualize the results and justify your choice.\n",
        "\n",
        "    - Cluster Analysis and Interpretation\n",
        "\n",
        "- **Task: 3**\n",
        "    - Interpret the clusters formed in the Wholesale Customers dataset. Identify the characteristics and differences among the clusters based on spending behavior.\n",
        "\n",
        "    - Hierarchical Clustering: Dendrogram and Cluster Formation\n",
        "\n",
        "- **Task: 4**\n",
        "    - Apply hierarchical clustering to the Wholesale Customers dataset and visualize the dendrogram. Compare the cluster assignments with those obtained from K-Means.\n",
        "\n",
        "    - Comparison of Clustering Results\n",
        "\n",
        "- **Task: 5**\n",
        "    - Compare the effectiveness of K-Means and hierarchical clustering on the Wholesale Customers dataset. Discuss the results in terms of cluster cohesion and separation."
      ],
      "metadata": {
        "id": "SlBawK2VTrkp"
      }
    },
    {
      "cell_type": "code",
      "execution_count": null,
      "metadata": {
        "id": "P3YShj6PGFv1"
      },
      "outputs": [],
      "source": [
        "import pandas as pd\n",
        "import numpy as np\n",
        "import matplotlib.pyplot as plt\n",
        "import seaborn as sns\n",
        "%matplotlib inline\n",
        "plt.figure(figsize=(10, 7))\n",
        "import warnings\n",
        "warnings.filterwarnings('ignore')"
      ]
    },
    {
      "cell_type": "code",
      "source": [],
      "metadata": {
        "id": "v7PqgbydUYSj"
      },
      "execution_count": null,
      "outputs": []
    },
    {
      "cell_type": "code",
      "source": [],
      "metadata": {
        "id": "ST2SrPUvUYQN"
      },
      "execution_count": null,
      "outputs": []
    },
    {
      "cell_type": "code",
      "source": [],
      "metadata": {
        "id": "3s_RrfkmUYNw"
      },
      "execution_count": null,
      "outputs": []
    },
    {
      "cell_type": "code",
      "source": [],
      "metadata": {
        "id": "hZlTzNj7UYK7"
      },
      "execution_count": null,
      "outputs": []
    },
    {
      "cell_type": "code",
      "source": [],
      "metadata": {
        "id": "UV2qHnb6UYII"
      },
      "execution_count": null,
      "outputs": []
    },
    {
      "cell_type": "code",
      "source": [],
      "metadata": {
        "id": "0LySQVGiUYFv"
      },
      "execution_count": null,
      "outputs": []
    },
    {
      "cell_type": "code",
      "source": [],
      "metadata": {
        "id": "yorxHX5QUYDF"
      },
      "execution_count": null,
      "outputs": []
    },
    {
      "cell_type": "code",
      "source": [],
      "metadata": {
        "id": "Btm_YckLUYAR"
      },
      "execution_count": null,
      "outputs": []
    },
    {
      "cell_type": "code",
      "source": [],
      "metadata": {
        "id": "oBH0R9vXUX9y"
      },
      "execution_count": null,
      "outputs": []
    },
    {
      "cell_type": "code",
      "source": [],
      "metadata": {
        "id": "mFCzg3CpUXmN"
      },
      "execution_count": null,
      "outputs": []
    }
  ]
}